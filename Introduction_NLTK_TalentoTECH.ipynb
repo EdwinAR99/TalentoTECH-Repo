{
  "nbformat": 4,
  "nbformat_minor": 0,
  "metadata": {
    "colab": {
      "provenance": [],
      "gpuType": "T4",
      "authorship_tag": "ABX9TyOyzlvJND5yhHMGrOAi9o8R",
      "include_colab_link": true
    },
    "kernelspec": {
      "name": "python3",
      "display_name": "Python 3"
    },
    "language_info": {
      "name": "python"
    },
    "accelerator": "GPU"
  },
  "cells": [
    {
      "cell_type": "markdown",
      "metadata": {
        "id": "view-in-github",
        "colab_type": "text"
      },
      "source": [
        "<a href=\"https://colab.research.google.com/github/EdwinAR99/TalentoTECH-Repo/blob/master/Introduction_NLTK_TalentoTECH.ipynb\" target=\"_parent\"><img src=\"https://colab.research.google.com/assets/colab-badge.svg\" alt=\"Open In Colab\"/></a>"
      ]
    },
    {
      "cell_type": "markdown",
      "source": [
        "# IMPORT LIBS"
      ],
      "metadata": {
        "id": "7SCsigaBFizT"
      }
    },
    {
      "cell_type": "code",
      "execution_count": 11,
      "metadata": {
        "id": "LHWijEodEd0s"
      },
      "outputs": [],
      "source": [
        "import nltk\n",
        "from nltk import pos_tag\n",
        "from nltk.tokenize import word_tokenize\n",
        "from nltk.stem import PorterStemmer\n",
        "\n",
        "import keras\n",
        "\n",
        "import random"
      ]
    },
    {
      "cell_type": "markdown",
      "source": [
        "# TUTORIAL NLTK"
      ],
      "metadata": {
        "id": "v9uazmTJFnWS"
      }
    },
    {
      "cell_type": "markdown",
      "source": [
        "Tokenización"
      ],
      "metadata": {
        "id": "PqF4v-HNGonr"
      }
    },
    {
      "cell_type": "code",
      "source": [
        "nltk.download('punkt')"
      ],
      "metadata": {
        "id": "imtjcmrvG32s"
      },
      "execution_count": null,
      "outputs": []
    },
    {
      "cell_type": "code",
      "source": [
        "sentence = \"NLTK es una biblioteca de procesamiento de lenguaje natural\"\n",
        "tokens = word_tokenize(sentence)\n",
        "print(tokens)"
      ],
      "metadata": {
        "colab": {
          "base_uri": "https://localhost:8080/"
        },
        "id": "jL-Vv6A-FqRC",
        "outputId": "60d71e42-b49f-4328-d779-7a7fdb700ebc"
      },
      "execution_count": 4,
      "outputs": [
        {
          "output_type": "stream",
          "name": "stdout",
          "text": [
            "['NLTK', 'es', 'una', 'biblioteca', 'de', 'procesamiento', 'de', 'lenguaje', 'natural']\n"
          ]
        }
      ]
    },
    {
      "cell_type": "markdown",
      "source": [
        "Derivacion"
      ],
      "metadata": {
        "id": "r0RfS0nMHD7W"
      }
    },
    {
      "cell_type": "code",
      "source": [
        "words = [\"running\", \"plays\", \"jumped\"]\n",
        "stemmer = PorterStemmer()\n",
        "stems = [stemmer.stem(word) for word in words]\n",
        "print(stems)"
      ],
      "metadata": {
        "colab": {
          "base_uri": "https://localhost:8080/"
        },
        "id": "oWKirnYwGx9D",
        "outputId": "7a1afd8d-2f15-456f-b696-b2d957c3d807"
      },
      "execution_count": 6,
      "outputs": [
        {
          "output_type": "stream",
          "name": "stdout",
          "text": [
            "['run', 'play', 'jump']\n"
          ]
        }
      ]
    },
    {
      "cell_type": "markdown",
      "source": [
        "Etiquetado"
      ],
      "metadata": {
        "id": "as4AzFNPHYCZ"
      }
    },
    {
      "cell_type": "code",
      "source": [
        "nltk.download('averaged_perceptron_tagger')"
      ],
      "metadata": {
        "colab": {
          "base_uri": "https://localhost:8080/"
        },
        "id": "xz6yoe1jHZ0p",
        "outputId": "5bf86369-ce31-41e4-d609-4460fcd53e39"
      },
      "execution_count": 8,
      "outputs": [
        {
          "output_type": "stream",
          "name": "stderr",
          "text": [
            "[nltk_data] Downloading package averaged_perceptron_tagger to\n",
            "[nltk_data]     /root/nltk_data...\n",
            "[nltk_data]   Unzipping taggers/averaged_perceptron_tagger.zip.\n"
          ]
        },
        {
          "output_type": "execute_result",
          "data": {
            "text/plain": [
              "True"
            ]
          },
          "metadata": {},
          "execution_count": 8
        }
      ]
    },
    {
      "cell_type": "code",
      "source": [
        "sentence = \"NLTK es una biblioteca de procesamiento de lenguaje natural\"\n",
        "tokens = word_tokenize(sentence)\n",
        "tagged_words = pos_tag(tokens)\n",
        "print(tagged_words)"
      ],
      "metadata": {
        "colab": {
          "base_uri": "https://localhost:8080/"
        },
        "id": "VT7P_NOJHnx7",
        "outputId": "97b0e26d-11e9-4b0d-e0bb-77a97dacab8d"
      },
      "execution_count": 9,
      "outputs": [
        {
          "output_type": "stream",
          "name": "stdout",
          "text": [
            "[('NLTK', 'NNP'), ('es', 'CC'), ('una', 'JJ'), ('biblioteca', 'NN'), ('de', 'IN'), ('procesamiento', 'FW'), ('de', 'FW'), ('lenguaje', 'FW'), ('natural', 'JJ')]\n"
          ]
        }
      ]
    },
    {
      "cell_type": "markdown",
      "source": [
        "Classifier"
      ],
      "metadata": {
        "id": "zqlYzltwIcUE"
      }
    },
    {
      "cell_type": "code",
      "source": [
        "sentences = [\n",
        "    (\"Qué hermoso día hace hoy.\", \"positivo\"),\n",
        "    (\"No puedo soportar este calor sofocante.\", \"negativo\"),\n",
        "    (\"Me encanta pasar tiempo con mis amigos.\", \"positivo\"),\n",
        "    (\"El tráfico de la ciudad me pone de mal humor.\", \"negativo\"),\n",
        "    (\"La comida en este restaurante es deliciosa.\", \"positivo\"),\n",
        "    (\"Estoy cansado de esta rutina diaria.\", \"negativo\"),\n",
        "    (\"Disfruto mucho practicando deporte al aire libre.\", \"positivo\"),\n",
        "    (\"El ruido constante de la construcción me molesta.\", \"negativo\"),\n",
        "    (\"Me siento emocionado por el próximo concierto.\", \"positivo\"),\n",
        "    (\"Odio cuando la gente no respeta las normas de convivencia.\", \"negativo\"),\n",
        "    (\"¡Qué bonita es esta canción!\", \"positivo\"),\n",
        "    (\"No puedo soportar la impuntualidad.\", \"negativo\"),\n",
        "    (\"Estoy agradecido por tener una familia amorosa.\", \"positivo\"),\n",
        "    (\"El servicio en este restaurante es terrible.\", \"negativo\"),\n",
        "    (\"Me encanta ver películas en el cine.\", \"positivo\"),\n",
        "    (\"No soporto la arrogancia de algunas personas.\", \"negativo\"),\n",
        "    (\"Hoy ha sido un día muy productivo.\", \"positivo\"),\n",
        "    (\"Estoy harto de este tiempo lluvioso.\", \"negativo\"),\n",
        "    (\"Me siento inspirado después de leer ese libro.\", \"positivo\"),\n",
        "    (\"La actitud positiva hace la diferencia.\", \"positivo\"),\n",
        "    (\"No puedo soportar la hipocresía.\", \"negativo\"),\n",
        "    (\"Estoy emocionado por el viaje que tenemos planeado.\", \"positivo\"),\n",
        "    (\"Este dolor de cabeza constante es insoportable.\", \"negativo\"),\n",
        "    (\"Adoro pasar tiempo con mis mascotas.\", \"positivo\"),\n",
        "    (\"La actitud negativa solo genera más problemas.\", \"negativo\"),\n",
        "    (\"Estoy feliz por los logros alcanzados.\", \"positivo\"),\n",
        "    (\"Me molesta cuando las personas son irrespetuosas.\", \"negativo\"),\n",
        "    (\"Este fin de semana ha sido realmente relajante.\", \"positivo\"),\n",
        "    (\"No soporto la falta de sinceridad.\", \"negativo\"),\n",
        "    (\"Me siento agradecido por la belleza de la naturaleza.\", \"positivo\"),\n",
        "]\n"
      ],
      "metadata": {
        "id": "oM9mkxdHIoVU"
      },
      "execution_count": 14,
      "outputs": []
    },
    {
      "cell_type": "code",
      "source": [
        "# Pre-processing of data: Tokenize and extraction of features\n",
        "def preprocess(text):\n",
        "  tokens = word_tokenize(text)\n",
        "  return {word: True for word in tokens}"
      ],
      "metadata": {
        "id": "7Gw5afK6JBHQ"
      },
      "execution_count": 15,
      "outputs": []
    },
    {
      "cell_type": "code",
      "source": [
        "# Apply pre-processing to data\n",
        "featuresets = [(preprocess(text), label) for (text, label) in sentences]"
      ],
      "metadata": {
        "id": "Tfo9hLjvJNkK"
      },
      "execution_count": 16,
      "outputs": []
    },
    {
      "cell_type": "code",
      "source": [
        "# Split data in training and test sets\n",
        "train_set, test_set = featuresets[:20], featuresets[20:]"
      ],
      "metadata": {
        "id": "cJ4THNafKMlT"
      },
      "execution_count": 17,
      "outputs": []
    },
    {
      "cell_type": "code",
      "source": [
        "# Train a classifier using Naive Bayes\n",
        "classifier = nltk.NaiveBayesClassifier.train(train_set)"
      ],
      "metadata": {
        "id": "08kk6eCpKtjP"
      },
      "execution_count": 18,
      "outputs": []
    },
    {
      "cell_type": "code",
      "source": [
        "# Eval the classifier on the test set\n",
        "accuracy = nltk.classify.accuracy(classifier, test_set)\n",
        "print(\"Accuracy\", accuracy)"
      ],
      "metadata": {
        "colab": {
          "base_uri": "https://localhost:8080/"
        },
        "id": "EO2Ox33DLS08",
        "outputId": "f970b556-a35e-4855-8b7e-66613911ef1e"
      },
      "execution_count": 19,
      "outputs": [
        {
          "output_type": "stream",
          "name": "stdout",
          "text": [
            "Accuracy 0.9\n"
          ]
        }
      ]
    },
    {
      "cell_type": "code",
      "source": [
        "# Classify a new text\n",
        "new_text = \"No me gusta tu cabello\"\n",
        "new_text_features = preprocess(new_text)\n",
        "predicted_label = classifier.classify(new_text_features)\n",
        "print(\"Predicted label:\", predicted_label)"
      ],
      "metadata": {
        "colab": {
          "base_uri": "https://localhost:8080/"
        },
        "id": "CqzrDAiQLnYO",
        "outputId": "3adcc451-d0df-44dc-8c57-0ea3c0062b87"
      },
      "execution_count": 28,
      "outputs": [
        {
          "output_type": "stream",
          "name": "stdout",
          "text": [
            "Predicted label: negativo\n"
          ]
        }
      ]
    },
    {
      "cell_type": "markdown",
      "source": [
        "# Preguntas de compresion\n",
        "\n",
        "\n",
        "1.   Qué tarea realiza el código proporcionado?\n",
        "    \n",
        "    *RTA/* Implementar un clasificador para diferenciar entre sentencias con sentimientos positivos y negativos, eso se hace utilizando la libreria nltk, y mas en especifico el clasificador Naive Bayes que contiene la libreria.\n",
        "2.   Cuál es el propósito del preprocesamiento de datos en este contexto?\n",
        "\n",
        "    *RTA/* El preprocesamiento de los datos se hace para que apartir de un conjunto de sentencias y su tipo de sentimiento, se puedan extraer sus caracteristicas y con ello puedan ser utilizadas para entrenar el clasificador Naive Bayes.\n",
        "3.   Qué función del NLTK se utiliza para tokenizar el texto?\n",
        "\n",
        "    *RTA/* Se utiliza el metodo word_tokenize.\n",
        "4.   Cuál es el proposito de dividir los datos en conjuntos de entrenamiento y prueba?\n",
        "\n",
        "    *RTA/* Un conjunto de utiliza para enseñarle al modelo como son las sentencias y el conjunto de prueba se usa para ver el rendimiento del modelo con datos que no conoce.\n",
        "5.   Qué algoritmo de clasificación se utiliza en este cóodigo?\n",
        "\n",
        "    *RTA/* Se usa Naive Bayes.\n",
        "6.   Cómo se evalúa la precisión del clasificador?\n",
        "\n",
        "    *RTA/* Con el conjunto de datos de pruebas utilizando el metodo accuracy de classify y de la libreria de nltk.\n",
        "7.   Qué se entiende por \"Accuracy\" en el contexto de la evaluacion del clasificador?\n",
        "\n",
        "    *RTA/* La precision es la cantidad de aciertos que tiene el modelo prediciendo las sentencias del conunto de pruebas.\n",
        "8.   Cuál es el resultado de la clasificación del nuevo texto \"This movie is amazing\"?\n",
        "\n",
        "    *RTA/* El modelo predice que la sentencia tiene un sentimiento positivo.\n",
        "\n"
      ],
      "metadata": {
        "id": "oQ3wr6e4M2sS"
      }
    },
    {
      "cell_type": "markdown",
      "source": [
        "# EXPLORATION EXERCISES"
      ],
      "metadata": {
        "id": "60GQ8kiJUHQZ"
      }
    },
    {
      "cell_type": "code",
      "source": [],
      "metadata": {
        "id": "LTfNErHKUKpq"
      },
      "execution_count": null,
      "outputs": []
    }
  ]
}