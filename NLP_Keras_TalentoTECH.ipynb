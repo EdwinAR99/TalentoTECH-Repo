{
  "nbformat": 4,
  "nbformat_minor": 0,
  "metadata": {
    "colab": {
      "provenance": [],
      "gpuType": "T4",
      "authorship_tag": "ABX9TyOR/Oj0pnTY3IzvO6wL4h0A",
      "include_colab_link": true
    },
    "kernelspec": {
      "name": "python3",
      "display_name": "Python 3"
    },
    "language_info": {
      "name": "python"
    },
    "accelerator": "GPU"
  },
  "cells": [
    {
      "cell_type": "markdown",
      "metadata": {
        "id": "view-in-github",
        "colab_type": "text"
      },
      "source": [
        "<a href=\"https://colab.research.google.com/github/EdwinAR99/TalentoTECH-Repo/blob/master/NLP_Keras_TalentoTECH.ipynb\" target=\"_parent\"><img src=\"https://colab.research.google.com/assets/colab-badge.svg\" alt=\"Open In Colab\"/></a>"
      ]
    },
    {
      "cell_type": "markdown",
      "source": [
        "#IMPORT LIBS"
      ],
      "metadata": {
        "id": "vuj9qAgihpDX"
      }
    },
    {
      "cell_type": "code",
      "source": [
        "import keras\n",
        "from keras.layers import Embedding, Flatten, Dense\n",
        "from keras.preprocessing.text import Tokenizer\n",
        "from keras.preprocessing.sequence import pad_sequences\n",
        "from sklearn.model_selection import train_test_split\n",
        "\n",
        "import numpy as np\n",
        "import pandas as pd\n",
        "import requests\n",
        "from io import StringIO\n",
        "\n",
        "import matplotlib.pyplot as plt"
      ],
      "metadata": {
        "id": "qE2Qu_lzhnVI"
      },
      "execution_count": 22,
      "outputs": []
    },
    {
      "cell_type": "markdown",
      "source": [
        "# INTRODUCTION"
      ],
      "metadata": {
        "id": "oshhLNjEhxZA"
      }
    },
    {
      "cell_type": "code",
      "execution_count": 3,
      "metadata": {
        "id": "dicywRVkhbRD"
      },
      "outputs": [],
      "source": [
        "frases = [\n",
        "    'Hola mundo',\n",
        "    'Hola a todos',\n",
        "    'Hola a todo el mundo',\n",
        "    'Buen dia, como estas hoy'\n",
        "]"
      ]
    },
    {
      "cell_type": "code",
      "source": [
        "#Generate the tokens dictionary\n",
        "tokenizer = Tokenizer(num_words = 10)\n",
        "tokenizer.fit_on_texts(frases)\n",
        "word_index = tokenizer.word_index\n",
        "print('word index =', word_index)"
      ],
      "metadata": {
        "colab": {
          "base_uri": "https://localhost:8080/"
        },
        "id": "5CP5z6mSh8vV",
        "outputId": "8a7db234-74f4-4367-c1e0-0ce17f7dc346"
      },
      "execution_count": 4,
      "outputs": [
        {
          "output_type": "stream",
          "name": "stdout",
          "text": [
            "word index = {'hola': 1, 'mundo': 2, 'a': 3, 'todos': 4, 'todo': 5, 'el': 6, 'buen': 7, 'dia': 8, 'como': 9, 'estas': 10, 'hoy': 11}\n"
          ]
        }
      ]
    },
    {
      "cell_type": "code",
      "source": [
        "#Generation of tokenized secuence\n",
        "secuencias = tokenizer.texts_to_sequences(frases)\n",
        "print('secuencias =', secuencias)"
      ],
      "metadata": {
        "colab": {
          "base_uri": "https://localhost:8080/"
        },
        "id": "JIeeBgwGirFf",
        "outputId": "d103f5a8-8f69-4b67-9537-1af856323314"
      },
      "execution_count": 5,
      "outputs": [
        {
          "output_type": "stream",
          "name": "stdout",
          "text": [
            "secuencias = [[1, 2], [1, 3, 4], [1, 3, 5, 6, 2], [7, 8, 9]]\n"
          ]
        }
      ]
    },
    {
      "cell_type": "code",
      "source": [
        "#Fill the secuences to a uniform length\n",
        "relleno = pad_sequences(secuencias)\n",
        "print('rellena =\\n', relleno)"
      ],
      "metadata": {
        "colab": {
          "base_uri": "https://localhost:8080/"
        },
        "id": "Ztk44sB3jDYS",
        "outputId": "d9347bd7-d762-4efd-bcf2-9590fd1abd56"
      },
      "execution_count": 6,
      "outputs": [
        {
          "output_type": "stream",
          "name": "stdout",
          "text": [
            "rellena =\n",
            " [[0 0 0 1 2]\n",
            " [0 0 1 3 4]\n",
            " [1 3 5 6 2]\n",
            " [0 0 7 8 9]]\n"
          ]
        }
      ]
    },
    {
      "cell_type": "markdown",
      "source": [
        "# IMDB Dataset"
      ],
      "metadata": {
        "id": "7TsERrl1j1KY"
      }
    },
    {
      "cell_type": "code",
      "source": [
        "# Load the CSV file into a pandas DataFrame\n",
        "df = pd.read_csv(\"IMDB Dataset.csv\")\n",
        "print(df.head())"
      ],
      "metadata": {
        "colab": {
          "base_uri": "https://localhost:8080/"
        },
        "id": "u8lgnVbkmORs",
        "outputId": "74dddae1-6c9b-46db-af4a-977262338566"
      },
      "execution_count": 9,
      "outputs": [
        {
          "output_type": "stream",
          "name": "stdout",
          "text": [
            "                                              review sentiment\n",
            "0  One of the other reviewers has mentioned that ...  positive\n",
            "1  A wonderful little production. <br /><br />The...  positive\n",
            "2  I thought this was a wonderful way to spend ti...  positive\n",
            "3  Basically there's a family where a little boy ...  negative\n",
            "4  Petter Mattei's \"Love in the Time of Money\" is...  positive\n"
          ]
        }
      ]
    },
    {
      "cell_type": "code",
      "source": [
        "# Checking dataset description\n",
        "print(df.describe())"
      ],
      "metadata": {
        "colab": {
          "base_uri": "https://localhost:8080/"
        },
        "id": "-ie0m5X3l4Z7",
        "outputId": "86494977-6327-47f9-8eb0-9a0307d3df84"
      },
      "execution_count": 10,
      "outputs": [
        {
          "output_type": "stream",
          "name": "stdout",
          "text": [
            "                                                   review sentiment\n",
            "count                                               50000     50000\n",
            "unique                                              49582         2\n",
            "top     Loved today's show!!! It was a variety and not...  positive\n",
            "freq                                                    5     25000\n"
          ]
        }
      ]
    },
    {
      "cell_type": "code",
      "source": [
        "# Sentiment count\n",
        "print(\"Total:\\n\", df['sentiment'].value_counts())"
      ],
      "metadata": {
        "colab": {
          "base_uri": "https://localhost:8080/"
        },
        "id": "pox99i4Wl-Hj",
        "outputId": "b95fc36c-f4f3-4218-e214-98a7847bd637"
      },
      "execution_count": 11,
      "outputs": [
        {
          "output_type": "stream",
          "name": "stdout",
          "text": [
            "Total:\n",
            " sentiment\n",
            "positive    25000\n",
            "negative    25000\n",
            "Name: count, dtype: int64\n"
          ]
        }
      ]
    },
    {
      "cell_type": "code",
      "source": [
        "review = []\n",
        "sentences = list(df['review'])\n",
        "\n",
        "for sen in sentences:\n",
        "  review.append(sen)"
      ],
      "metadata": {
        "id": "wrrHTHJenSW1"
      },
      "execution_count": 12,
      "outputs": []
    },
    {
      "cell_type": "code",
      "source": [
        "labels = df['sentiment']\n",
        "labels = np.array(list(map(lambda x: 1 if x==\"positive\" else 0, labels)))"
      ],
      "metadata": {
        "id": "t8w6tyU7ni53"
      },
      "execution_count": 13,
      "outputs": []
    },
    {
      "cell_type": "code",
      "source": [
        "train_sen, test_sen, train_lbl, test_lbl = train_test_split(review, labels, test_size=0.2)"
      ],
      "metadata": {
        "id": "Y34AEIfVoADD"
      },
      "execution_count": 14,
      "outputs": []
    },
    {
      "cell_type": "code",
      "source": [
        "# Parameters\n",
        "vocab_size = 1000\n",
        "max_lenght = 120\n",
        "embedding_dim = 16\n",
        "trunc_type = 'post'\n",
        "oov_tok = \"<OOV>\""
      ],
      "metadata": {
        "id": "qHiBw0GioTot"
      },
      "execution_count": 15,
      "outputs": []
    },
    {
      "cell_type": "code",
      "source": [
        "# Initialize the tokenizer class\n",
        "tokenizer = Tokenizer(num_words = vocab_size, oov_token=oov_tok)\n",
        "\n",
        "# Generate the word index dictionary for the training sentences\n",
        "tokenizer.fit_on_texts(train_sen)\n",
        "word_index = tokenizer.word_index\n",
        "\n",
        "# Generate and pad the training sentences\n",
        "sequences = tokenizer.texts_to_sequences(train_sen)\n",
        "padded = pad_sequences(sequences, maxlen=max_lenght, truncating=trunc_type)\n",
        "\n",
        "# Generate and pad the test sentences\n",
        "test_sequences = tokenizer.texts_to_sequences(test_sen)\n",
        "test_padded = pad_sequences(test_sequences, maxlen=max_lenght, truncating=trunc_type)"
      ],
      "metadata": {
        "id": "oqUCB2-Yoo8n"
      },
      "execution_count": 17,
      "outputs": []
    },
    {
      "cell_type": "code",
      "source": [
        "# Build the model\n",
        "model = keras.Sequential([\n",
        "    Embedding(vocab_size, embedding_dim, input_length=max_lenght),\n",
        "    Flatten(),\n",
        "    Dense(64, activation='relu'),\n",
        "    Dense(1, activation='sigmoid')\n",
        "])"
      ],
      "metadata": {
        "id": "Zvhps5tDqDiz"
      },
      "execution_count": 33,
      "outputs": []
    },
    {
      "cell_type": "code",
      "source": [
        "# Setup the training parameters\n",
        "model.compile(\n",
        "    loss='binary_crossentropy',\n",
        "    optimizer='adam',\n",
        "    metrics=['accuracy']\n",
        ")\n",
        "\n",
        "# Print the model summary\n",
        "model.summary()"
      ],
      "metadata": {
        "colab": {
          "base_uri": "https://localhost:8080/"
        },
        "id": "fCU0qKAdt-Oa",
        "outputId": "fee5e243-0162-4568-c055-e988a3c29405"
      },
      "execution_count": 34,
      "outputs": [
        {
          "output_type": "stream",
          "name": "stdout",
          "text": [
            "Model: \"sequential_2\"\n",
            "_________________________________________________________________\n",
            " Layer (type)                Output Shape              Param #   \n",
            "=================================================================\n",
            " embedding_2 (Embedding)     (None, 120, 16)           16000     \n",
            "                                                                 \n",
            " flatten_2 (Flatten)         (None, 1920)              0         \n",
            "                                                                 \n",
            " dense_4 (Dense)             (None, 64)                122944    \n",
            "                                                                 \n",
            " dense_5 (Dense)             (None, 1)                 65        \n",
            "                                                                 \n",
            "=================================================================\n",
            "Total params: 139009 (543.00 KB)\n",
            "Trainable params: 139009 (543.00 KB)\n",
            "Non-trainable params: 0 (0.00 Byte)\n",
            "_________________________________________________________________\n"
          ]
        }
      ]
    },
    {
      "cell_type": "code",
      "source": [
        "# Train the model\n",
        "history = model.fit(\n",
        "    padded,\n",
        "    train_lbl,\n",
        "    epochs = 20,\n",
        "    batch_size=64,\n",
        "    verbose = 1,\n",
        "    validation_data = (test_padded, test_lbl)\n",
        ")"
      ],
      "metadata": {
        "colab": {
          "base_uri": "https://localhost:8080/"
        },
        "id": "N60UiM_3u5C6",
        "outputId": "3f9af27f-0fa1-4547-839b-08f8045a3905"
      },
      "execution_count": 35,
      "outputs": [
        {
          "output_type": "stream",
          "name": "stdout",
          "text": [
            "Epoch 1/20\n",
            "625/625 [==============================] - 17s 25ms/step - loss: 0.4925 - accuracy: 0.7423 - val_loss: 0.4296 - val_accuracy: 0.7967\n",
            "Epoch 2/20\n",
            "625/625 [==============================] - 3s 5ms/step - loss: 0.3758 - accuracy: 0.8301 - val_loss: 0.4286 - val_accuracy: 0.8011\n",
            "Epoch 3/20\n",
            "625/625 [==============================] - 4s 6ms/step - loss: 0.3253 - accuracy: 0.8589 - val_loss: 0.4468 - val_accuracy: 0.7942\n",
            "Epoch 4/20\n",
            "625/625 [==============================] - 4s 6ms/step - loss: 0.2746 - accuracy: 0.8865 - val_loss: 0.4995 - val_accuracy: 0.7865\n",
            "Epoch 5/20\n",
            "625/625 [==============================] - 3s 4ms/step - loss: 0.2248 - accuracy: 0.9111 - val_loss: 0.5668 - val_accuracy: 0.7771\n",
            "Epoch 6/20\n",
            "625/625 [==============================] - 3s 4ms/step - loss: 0.1773 - accuracy: 0.9334 - val_loss: 0.6442 - val_accuracy: 0.7744\n",
            "Epoch 7/20\n",
            "625/625 [==============================] - 3s 5ms/step - loss: 0.1324 - accuracy: 0.9535 - val_loss: 0.7655 - val_accuracy: 0.7665\n",
            "Epoch 8/20\n",
            "625/625 [==============================] - 4s 6ms/step - loss: 0.0931 - accuracy: 0.9698 - val_loss: 0.9101 - val_accuracy: 0.7653\n",
            "Epoch 9/20\n",
            "625/625 [==============================] - 3s 5ms/step - loss: 0.0620 - accuracy: 0.9821 - val_loss: 1.0939 - val_accuracy: 0.7574\n",
            "Epoch 10/20\n",
            "625/625 [==============================] - 3s 4ms/step - loss: 0.0413 - accuracy: 0.9902 - val_loss: 1.2344 - val_accuracy: 0.7619\n",
            "Epoch 11/20\n",
            "625/625 [==============================] - 3s 4ms/step - loss: 0.0269 - accuracy: 0.9945 - val_loss: 1.4262 - val_accuracy: 0.7593\n",
            "Epoch 12/20\n",
            "625/625 [==============================] - 3s 5ms/step - loss: 0.0173 - accuracy: 0.9970 - val_loss: 1.5521 - val_accuracy: 0.7584\n",
            "Epoch 13/20\n",
            "625/625 [==============================] - 4s 6ms/step - loss: 0.0123 - accuracy: 0.9985 - val_loss: 1.7431 - val_accuracy: 0.7576\n",
            "Epoch 14/20\n",
            "625/625 [==============================] - 3s 4ms/step - loss: 0.0142 - accuracy: 0.9970 - val_loss: 1.8215 - val_accuracy: 0.7557\n",
            "Epoch 15/20\n",
            "625/625 [==============================] - 3s 5ms/step - loss: 0.0315 - accuracy: 0.9898 - val_loss: 1.7963 - val_accuracy: 0.7534\n",
            "Epoch 16/20\n",
            "625/625 [==============================] - 3s 5ms/step - loss: 0.0191 - accuracy: 0.9947 - val_loss: 1.8987 - val_accuracy: 0.7566\n",
            "Epoch 17/20\n",
            "625/625 [==============================] - 7s 11ms/step - loss: 0.0076 - accuracy: 0.9987 - val_loss: 2.0210 - val_accuracy: 0.7558\n",
            "Epoch 18/20\n",
            "625/625 [==============================] - 3s 5ms/step - loss: 0.0038 - accuracy: 0.9997 - val_loss: 2.1370 - val_accuracy: 0.7556\n",
            "Epoch 19/20\n",
            "625/625 [==============================] - 3s 5ms/step - loss: 0.0013 - accuracy: 1.0000 - val_loss: 2.2507 - val_accuracy: 0.7559\n",
            "Epoch 20/20\n",
            "625/625 [==============================] - 3s 4ms/step - loss: 6.5548e-04 - accuracy: 1.0000 - val_loss: 2.3565 - val_accuracy: 0.7551\n"
          ]
        }
      ]
    },
    {
      "cell_type": "code",
      "source": [
        "# Create subplots\n",
        "fig, axes = plt.subplots(1, 2, figsize=(12, 5))\n",
        "\n",
        "# Graphic the training history - Accuracy\n",
        "axes[0].plot(history.history['accuracy'], label='Training Accuracy')\n",
        "axes[0].plot(history.history['val_accuracy'], label='Validation Accuracy')\n",
        "axes[0].set_title('Model Training History - Accuracy')\n",
        "axes[0].set_xlabel('Epoch')\n",
        "axes[0].set_ylabel('Accuracy')\n",
        "axes[0].legend()\n",
        "axes[0].grid(True)\n",
        "\n",
        "# Graphic the training history - Loss\n",
        "axes[1].plot(history.history['loss'], label='Training Loss')\n",
        "axes[1].plot(history.history['val_loss'], label='Validation Loss')\n",
        "axes[1].set_title('Model Training History - Loss')\n",
        "axes[1].set_xlabel('Epoch')\n",
        "axes[1].set_ylabel('Loss')\n",
        "axes[1].legend()\n",
        "axes[1].grid(True)\n",
        "\n",
        "plt.tight_layout()\n",
        "plt.show()"
      ],
      "metadata": {
        "colab": {
          "base_uri": "https://localhost:8080/",
          "height": 507
        },
        "id": "7_JJEJ-2wmXg",
        "outputId": "30e9b9a1-256c-4007-87ac-73aadbe62d0f"
      },
      "execution_count": 36,
      "outputs": [
        {
          "output_type": "display_data",
          "data": {
            "text/plain": [
              "<Figure size 1200x500 with 2 Axes>"
            ],
            "image/png": "[encoded data removed]"
          },
          "metadata": {}
        }
      ]
    }
  ]
}