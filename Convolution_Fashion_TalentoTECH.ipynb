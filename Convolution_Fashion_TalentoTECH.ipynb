{
  "nbformat": 4,
  "nbformat_minor": 0,
  "metadata": {
    "colab": {
      "provenance": [],
      "gpuType": "T4",
      "authorship_tag": "ABX9TyM81Bib/UD36jPZHf9geyQB",
      "include_colab_link": true
    },
    "kernelspec": {
      "name": "python3",
      "display_name": "Python 3"
    },
    "language_info": {
      "name": "python"
    },
    "accelerator": "GPU"
  },
  "cells": [
    {
      "cell_type": "markdown",
      "metadata": {
        "id": "view-in-github",
        "colab_type": "text"
      },
      "source": [
        "<a href=\"https://colab.research.google.com/github/EdwinAR99/TalentoTECH-Repo/blob/master/Convolution_Fashion_TalentoTECH.ipynb\" target=\"_parent\"><img src=\"https://colab.research.google.com/assets/colab-badge.svg\" alt=\"Open In Colab\"/></a>"
      ]
    },
    {
      "cell_type": "markdown",
      "source": [
        "# IMPORT LIBS"
      ],
      "metadata": {
        "id": "Zj8qfkYEH4Qd"
      }
    },
    {
      "cell_type": "code",
      "execution_count": 39,
      "metadata": {
        "id": "9m54D3elHDxJ"
      },
      "outputs": [],
      "source": [
        "import numpy as np\n",
        "import matplotlib.pyplot as plt\n",
        "import pandas as pd\n",
        "\n",
        "from keras.datasets import fashion_mnist\n",
        "from keras.utils import to_categorical\n",
        "from keras.models import Sequential, Model\n",
        "from keras.layers import Conv2D, MaxPooling2D, Flatten, Dense, Dropout"
      ]
    },
    {
      "cell_type": "markdown",
      "source": [
        "# LOAD DATASET"
      ],
      "metadata": {
        "id": "s_xWEpsaH4iu"
      }
    },
    {
      "cell_type": "code",
      "source": [
        "# Load the dataset\n",
        "(x_train, y_train), (x_test, y_test) = fashion_mnist.load_data()\n",
        "\n",
        "# Normalize images to [0, 1]\n",
        "x_train = x_train / 255\n",
        "x_test = x_test / 255\n",
        "\n",
        "# Reshape images to (28, 28, 1) to fit the model\n",
        "x_train = np.expand_dims(x_train, axis=-1)\n",
        "x_test = np.expand_dims(x_test, axis=-1)\n",
        "\n",
        "# Encode labels in one-hot format\n",
        "y_train = to_categorical(y_train, 10)\n",
        "y_test = to_categorical(y_test, 10)"
      ],
      "metadata": {
        "id": "dA0-bnQPH4zM"
      },
      "execution_count": 26,
      "outputs": []
    },
    {
      "cell_type": "markdown",
      "source": [
        "# MODEL"
      ],
      "metadata": {
        "id": "4CaXOwDDIeno"
      }
    },
    {
      "cell_type": "code",
      "source": [
        "# Define the neural network model\n",
        "model = Sequential()\n",
        "\n",
        "model.add(Conv2D(32, (3, 3), activation='relu', input_shape=(28, 28, 1)))\n",
        "model.add(MaxPooling2D((2, 2)))\n",
        "model.add(Conv2D(64, (3, 3), activation='relu'))\n",
        "model.add(MaxPooling2D((2, 2)))\n",
        "model.add(Conv2D(64, (3, 3), activation='relu'))\n",
        "model.add(Flatten())\n",
        "model.add(Dense(64, activation='relu'))\n",
        "model.add(Dense(10, activation='softmax'))"
      ],
      "metadata": {
        "id": "RbpjqRnBIfvp"
      },
      "execution_count": 28,
      "outputs": []
    },
    {
      "cell_type": "code",
      "source": [
        "# Compile the model\n",
        "model.compile(optimizer='adam',\n",
        "              loss='categorical_crossentropy',\n",
        "              metrics=['accuracy'])"
      ],
      "metadata": {
        "id": "TxoxBh8OIlvB"
      },
      "execution_count": 29,
      "outputs": []
    },
    {
      "cell_type": "code",
      "source": [
        "# Train the model\n",
        "history = model.fit(x_train, y_train, epochs=10, verbose=1, batch_size=64)"
      ],
      "metadata": {
        "colab": {
          "base_uri": "https://localhost:8080/"
        },
        "id": "b7ED0o2iImuS",
        "outputId": "8e189d67-4df8-4b67-a4ec-6fbd19681c56"
      },
      "execution_count": 30,
      "outputs": [
        {
          "output_type": "stream",
          "name": "stdout",
          "text": [
            "Epoch 1/10\n",
            "938/938 [==============================] - 6s 4ms/step - loss: 0.5283 - accuracy: 0.8073\n",
            "Epoch 2/10\n",
            "938/938 [==============================] - 4s 5ms/step - loss: 0.3333 - accuracy: 0.8798\n",
            "Epoch 3/10\n",
            "938/938 [==============================] - 4s 4ms/step - loss: 0.2898 - accuracy: 0.8948\n",
            "Epoch 4/10\n",
            "938/938 [==============================] - 4s 4ms/step - loss: 0.2556 - accuracy: 0.9066\n",
            "Epoch 5/10\n",
            "938/938 [==============================] - 6s 6ms/step - loss: 0.2363 - accuracy: 0.9137\n",
            "Epoch 6/10\n",
            "938/938 [==============================] - 4s 4ms/step - loss: 0.2142 - accuracy: 0.9212\n",
            "Epoch 7/10\n",
            "938/938 [==============================] - 4s 4ms/step - loss: 0.1950 - accuracy: 0.9287\n",
            "Epoch 8/10\n",
            "938/938 [==============================] - 4s 5ms/step - loss: 0.1844 - accuracy: 0.9311\n",
            "Epoch 9/10\n",
            "938/938 [==============================] - 4s 4ms/step - loss: 0.1671 - accuracy: 0.9377\n",
            "Epoch 10/10\n",
            "938/938 [==============================] - 4s 5ms/step - loss: 0.1511 - accuracy: 0.9432\n"
          ]
        }
      ]
    },
    {
      "cell_type": "markdown",
      "source": [
        "# EVALUATE"
      ],
      "metadata": {
        "id": "Wsk2EmTOJ1A9"
      }
    },
    {
      "cell_type": "code",
      "source": [
        "# Grafic the training history\n",
        "pd.DataFrame(history.history).plot(grid=True)"
      ],
      "metadata": {
        "colab": {
          "base_uri": "https://localhost:8080/",
          "height": 448
        },
        "id": "x4T44FKWZq-4",
        "outputId": "ad97b5c8-8acb-4c0a-d82c-d7e7ffebdf39"
      },
      "execution_count": 31,
      "outputs": [
        {
          "output_type": "execute_result",
          "data": {
            "text/plain": [
              "<Axes: >"
            ]
          },
          "metadata": {},
          "execution_count": 31
        },
        {
          "output_type": "display_data",
          "data": {
            "text/plain": [
              "<Figure size 640x480 with 1 Axes>"
            ],
            "image/png": "[encoded data removed]"
          },
          "metadata": {}
        }
      ]
    },
    {
      "cell_type": "code",
      "source": [
        "# Evaluate the model in the training dataset\n",
        "loss, accuracy = model.evaluate(x_train, y_train)\n",
        "print('Pérdida en el conjunto de entrenamiento:', loss)\n",
        "print('Precisión en el conjunto de entrenamiento:', accuracy)\n",
        "\n",
        "# Evaluate the model with data unseen data\n",
        "loss, accuracy = model.evaluate(x_test, y_test)\n",
        "print('Pérdida en el conjunto de entrenamiento:', loss)\n",
        "print('Precisión en el conjunto de entrenamiento:', accuracy)"
      ],
      "metadata": {
        "colab": {
          "base_uri": "https://localhost:8080/"
        },
        "id": "0D1J3tf6ZjV7",
        "outputId": "d22b9ca4-c1ed-4edc-e1e0-ef7a8afa8d05"
      },
      "execution_count": 32,
      "outputs": [
        {
          "output_type": "stream",
          "name": "stdout",
          "text": [
            "1875/1875 [==============================] - 4s 2ms/step - loss: 0.1343 - accuracy: 0.9506\n",
            "Pérdida en el conjunto de entrenamiento: 0.13431599736213684\n",
            "Precisión en el conjunto de entrenamiento: 0.9506333470344543\n",
            "313/313 [==============================] - 1s 3ms/step - loss: 0.2676 - accuracy: 0.9118\n",
            "Pérdida en el conjunto de entrenamiento: 0.26764872670173645\n",
            "Precisión en el conjunto de entrenamiento: 0.9118000268936157\n"
          ]
        }
      ]
    },
    {
      "cell_type": "markdown",
      "source": [
        "# ADITIONAL INFORMATION"
      ],
      "metadata": {
        "id": "FMeD9ZsFKAnv"
      }
    },
    {
      "cell_type": "code",
      "source": [
        "# Predict\n",
        "index = 1\n",
        "print(f'Label: {y_test[index]}')\n",
        "classification = model.predict(x_test[index:index+1])\n",
        "print(f'Classification:\\n {classification.reshape(-1,1)}')"
      ],
      "metadata": {
        "id": "zfKJVQnRKCk1",
        "colab": {
          "base_uri": "https://localhost:8080/"
        },
        "outputId": "989108cc-d39b-4378-fa55-84798fe1f41b"
      },
      "execution_count": 33,
      "outputs": [
        {
          "output_type": "stream",
          "name": "stdout",
          "text": [
            "Label: [0. 0. 1. 0. 0. 0. 0. 0. 0. 0.]\n",
            "1/1 [==============================] - 0s 71ms/step\n",
            "Classification:\n",
            " [[9.2802264e-07]\n",
            " [4.2263918e-11]\n",
            " [9.9997473e-01]\n",
            " [8.0007112e-11]\n",
            " [2.4142193e-07]\n",
            " [5.4428597e-12]\n",
            " [2.4093368e-05]\n",
            " [6.5893652e-16]\n",
            " [1.6473888e-10]\n",
            " [8.0656599e-11]]\n"
          ]
        }
      ]
    },
    {
      "cell_type": "code",
      "source": [
        "print(y_test[:30])"
      ],
      "metadata": {
        "colab": {
          "base_uri": "https://localhost:8080/"
        },
        "id": "giqalW5XaQ9e",
        "outputId": "ff4dfbc7-08cd-4f26-ff6c-069da49c8515"
      },
      "execution_count": 34,
      "outputs": [
        {
          "output_type": "stream",
          "name": "stdout",
          "text": [
            "[[0. 0. 0. 0. 0. 0. 0. 0. 0. 1.]\n",
            " [0. 0. 1. 0. 0. 0. 0. 0. 0. 0.]\n",
            " [0. 1. 0. 0. 0. 0. 0. 0. 0. 0.]\n",
            " [0. 1. 0. 0. 0. 0. 0. 0. 0. 0.]\n",
            " [0. 0. 0. 0. 0. 0. 1. 0. 0. 0.]\n",
            " [0. 1. 0. 0. 0. 0. 0. 0. 0. 0.]\n",
            " [0. 0. 0. 0. 1. 0. 0. 0. 0. 0.]\n",
            " [0. 0. 0. 0. 0. 0. 1. 0. 0. 0.]\n",
            " [0. 0. 0. 0. 0. 1. 0. 0. 0. 0.]\n",
            " [0. 0. 0. 0. 0. 0. 0. 1. 0. 0.]\n",
            " [0. 0. 0. 0. 1. 0. 0. 0. 0. 0.]\n",
            " [0. 0. 0. 0. 0. 1. 0. 0. 0. 0.]\n",
            " [0. 0. 0. 0. 0. 0. 0. 1. 0. 0.]\n",
            " [0. 0. 0. 1. 0. 0. 0. 0. 0. 0.]\n",
            " [0. 0. 0. 0. 1. 0. 0. 0. 0. 0.]\n",
            " [0. 1. 0. 0. 0. 0. 0. 0. 0. 0.]\n",
            " [0. 0. 1. 0. 0. 0. 0. 0. 0. 0.]\n",
            " [0. 0. 0. 0. 1. 0. 0. 0. 0. 0.]\n",
            " [0. 0. 0. 0. 0. 0. 0. 0. 1. 0.]\n",
            " [1. 0. 0. 0. 0. 0. 0. 0. 0. 0.]\n",
            " [0. 0. 1. 0. 0. 0. 0. 0. 0. 0.]\n",
            " [0. 0. 0. 0. 0. 1. 0. 0. 0. 0.]\n",
            " [0. 0. 0. 0. 0. 0. 0. 1. 0. 0.]\n",
            " [0. 0. 0. 0. 0. 0. 0. 0. 0. 1.]\n",
            " [0. 1. 0. 0. 0. 0. 0. 0. 0. 0.]\n",
            " [0. 0. 0. 0. 1. 0. 0. 0. 0. 0.]\n",
            " [0. 0. 0. 0. 0. 0. 1. 0. 0. 0.]\n",
            " [1. 0. 0. 0. 0. 0. 0. 0. 0. 0.]\n",
            " [0. 0. 0. 0. 0. 0. 0. 0. 0. 1.]\n",
            " [0. 0. 0. 1. 0. 0. 0. 0. 0. 0.]]\n"
          ]
        }
      ]
    },
    {
      "cell_type": "code",
      "source": [
        "first = 2\n",
        "second = 5\n",
        "third = 15\n",
        "\n",
        "print(y_test[first])\n",
        "print(y_test[second])\n",
        "print(y_test[third])"
      ],
      "metadata": {
        "colab": {
          "base_uri": "https://localhost:8080/"
        },
        "id": "3fm8TgHlbdsI",
        "outputId": "32a98193-1cfd-4bc7-ab97-ec27243c88d8"
      },
      "execution_count": 36,
      "outputs": [
        {
          "output_type": "stream",
          "name": "stdout",
          "text": [
            "[0. 1. 0. 0. 0. 0. 0. 0. 0. 0.]\n",
            "[0. 1. 0. 0. 0. 0. 0. 0. 0. 0.]\n",
            "[0. 1. 0. 0. 0. 0. 0. 0. 0. 0.]\n"
          ]
        }
      ]
    },
    {
      "cell_type": "code",
      "source": [
        "f, axarr = plt.subplots(3, 1)\n",
        "axarr[0].imshow(x_test[first])\n",
        "axarr[1].imshow(x_test[second])\n",
        "axarr[2].imshow(x_test[third])"
      ],
      "metadata": {
        "colab": {
          "base_uri": "https://localhost:8080/",
          "height": 451
        },
        "id": "BxFgTDiabwaU",
        "outputId": "ad9b43b2-4570-46c5-c3bc-09e27e9121c1"
      },
      "execution_count": 37,
      "outputs": [
        {
          "output_type": "execute_result",
          "data": {
            "text/plain": [
              "<matplotlib.image.AxesImage at 0x7e5e8fa849a0>"
            ]
          },
          "metadata": {},
          "execution_count": 37
        },
        {
          "output_type": "display_data",
          "data": {
            "text/plain": [
              "<Figure size 640x480 with 3 Axes>"
            ],
            "image/png": "[encoded data removed]"
          },
          "metadata": {}
        }
      ]
    },
    {
      "cell_type": "code",
      "source": [
        "layer = 0\n",
        "filter1 = 0\n",
        "filter2 = 10\n",
        "\n",
        "layer_outputs = [layer.output for layer in model.layers]\n",
        "activation_model = Model(inputs = model.input, outputs = layer_outputs)"
      ],
      "metadata": {
        "id": "hy75MHErbzrU"
      },
      "execution_count": 40,
      "outputs": []
    },
    {
      "cell_type": "code",
      "source": [
        "f, axarr = plt.subplots(3, 3)\n",
        "\n",
        "axarr[0, 0].set_title('Image Input')\n",
        "axarr[0, 0].imshow(x_test[first])\n",
        "f1 = activation_model.predict(x_test[first].reshape(1, 28, 28, 1))[layer]\n",
        "axarr[0, 1].set_title(\"Layer \" + str(layer) + \", Filter1\")\n",
        "axarr[0, 1].imshow(f1[0, :, :, filter1])\n",
        "axarr[0, 2].set_title(\"Layer \" + str(layer) + \", Filter2\")\n",
        "axarr[0, 2].imshow(f1[0, :, :, filter2])\n",
        "\n",
        "axarr[1, 0].imshow(x_test[second])\n",
        "f2 = activation_model.predict(x_test[second].reshape(1, 28, 28, 1))[layer]\n",
        "axarr[1, 1].imshow(f2[0, :, :, filter1])\n",
        "axarr[1, 2].imshow(f2[0, :, :, filter2])\n",
        "\n",
        "axarr[2, 0].imshow(x_test[third])\n",
        "f3 = activation_model.predict(x_test[third].reshape(1, 28, 28, 1))[layer]\n",
        "axarr[2, 1].imshow(f3[0, :, :, filter1])\n",
        "axarr[2, 2].imshow(f3[0, :, :, filter2])"
      ],
      "metadata": {
        "colab": {
          "base_uri": "https://localhost:8080/",
          "height": 525
        },
        "id": "ELefYuJqb7m5",
        "outputId": "ecc0795a-edc1-41b2-ec1c-eb30bc90de4a"
      },
      "execution_count": 41,
      "outputs": [
        {
          "output_type": "stream",
          "name": "stdout",
          "text": [
            "1/1 [==============================] - 0s 173ms/step\n",
            "1/1 [==============================] - 0s 42ms/step\n",
            "1/1 [==============================] - 0s 26ms/step\n"
          ]
        },
        {
          "output_type": "execute_result",
          "data": {
            "text/plain": [
              "<matplotlib.image.AxesImage at 0x7e5e8fc8e350>"
            ]
          },
          "metadata": {},
          "execution_count": 41
        },
        {
          "output_type": "display_data",
          "data": {
            "text/plain": [
              "<Figure size 640x480 with 9 Axes>"
            ],
            "image/png": "[encoded data removed]"
          },
          "metadata": {}
        }
      ]
    }
  ]
}