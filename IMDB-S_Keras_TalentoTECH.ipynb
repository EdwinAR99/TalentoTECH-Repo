{
 "cells": [
  {
   "cell_type": "markdown",
   "metadata": {},
   "source": [
    "# IMPORT LIBS"
   ]
  },
  {
   "cell_type": "code",
   "execution_count": 27,
   "metadata": {},
   "outputs": [],
   "source": [
    "import keras\n",
    "from keras.layers import Embedding, Flatten, Dense, LSTM, Dropout, Conv1D, GlobalMaxPooling1D\n",
    "from tensorflow.keras.preprocessing.text import Tokenizer\n",
    "from tensorflow.keras.preprocessing.sequence import pad_sequences\n",
    "from sklearn.metrics import accuracy_score, precision_score, recall_score, f1_score\n",
    "from sklearn.model_selection import train_test_split\n",
    "\n",
    "from sklearn.metrics import accuracy_score, precision_score, recall_score, f1_score, roc_auc_score\n",
    "\n",
    "import numpy as np\n",
    "import pandas as pd\n",
    "\n",
    "import matplotlib.pyplot as plt"
   ]
  },
  {
   "cell_type": "markdown",
   "metadata": {},
   "source": [
    "# FUNCTIONS"
   ]
  },
  {
   "cell_type": "code",
   "execution_count": 1,
   "metadata": {},
   "outputs": [],
   "source": [
    "def plot_history(history):\n",
    "    # Create subplots\n",
    "    fig, axes = plt.subplots(1, 2, figsize=(12, 5))\n",
    "\n",
    "    # Graphic the training history - Accuracy\n",
    "    axes[0].plot(history.history['accuracy'], label='Training Accuracy')\n",
    "    axes[0].plot(history.history['val_accuracy'], label='Validation Accuracy')\n",
    "    axes[0].set_title('Model Training History - Accuracy')\n",
    "    axes[0].set_xlabel('Epoch')\n",
    "    axes[0].set_ylabel('Accuracy')\n",
    "    axes[0].legend()\n",
    "    axes[0].grid(True)\n",
    "\n",
    "    # Graphic the training history - Loss\n",
    "    axes[1].plot(history.history['loss'], label='Training Loss')\n",
    "    axes[1].plot(history.history['val_loss'], label='Validation Loss')\n",
    "    axes[1].set_title('Model Training History - Loss')\n",
    "    axes[1].set_xlabel('Epoch')\n",
    "    axes[1].set_ylabel('Loss')\n",
    "    axes[1].legend()\n",
    "    axes[1].grid(True)\n",
    "\n",
    "    plt.tight_layout()\n",
    "    plt.show()"
   ]
  },
  {
   "cell_type": "markdown",
   "metadata": {},
   "source": [
    "# IMDB SPANISH DATASET"
   ]
  },
  {
   "cell_type": "code",
   "execution_count": 3,
   "metadata": {},
   "outputs": [
    {
     "name": "stdout",
     "output_type": "stream",
     "text": [
      "   Unnamed: 0                                          review_en  \\\n",
      "0           0  One of the other reviewers has mentioned that ...   \n",
      "1           1  A wonderful little production. The filming tec...   \n",
      "2           2  I thought this was a wonderful way to spend ti...   \n",
      "3           3  Basically there's a family where a little boy ...   \n",
      "4           4  Petter Mattei's \"Love in the Time of Money\" is...   \n",
      "\n",
      "                                           review_es sentiment sentimiento  \n",
      "0  Uno de los otros críticos ha mencionado que de...  positive    positivo  \n",
      "1  Una pequeña pequeña producción.La técnica de f...  positive    positivo  \n",
      "2  Pensé que esta era una manera maravillosa de p...  positive    positivo  \n",
      "3  Básicamente, hay una familia donde un niño peq...  negative    negativo  \n",
      "4  El \"amor en el tiempo\" de Petter Mattei es una...  positive    positivo  \n"
     ]
    }
   ],
   "source": [
    "# Load the CSV file into a pandas DataFrame\n",
    "# Change the path of each code execution\n",
    "df = pd.read_csv(\"C:\\\\Users\\\\Lenovo\\\\Documents\\\\Talento Tech\\\\IA\\\\Datasets\\\\Kaggle\\\\NLP\\\\IMDB Dataset SPANISH.csv\")\n",
    "print(df.head())"
   ]
  },
  {
   "cell_type": "code",
   "execution_count": 4,
   "metadata": {},
   "outputs": [],
   "source": [
    "# Use only rows in spanish \n",
    "df_es = {\n",
    "    'reseña': list(df['review_es']),\n",
    "    'sentimiento': list(df['sentimiento'])\n",
    "}\n",
    "\n",
    "df_es = pd.DataFrame(df_es)"
   ]
  },
  {
   "cell_type": "code",
   "execution_count": 6,
   "metadata": {},
   "outputs": [
    {
     "name": "stdout",
     "output_type": "stream",
     "text": [
      "                                                   reseña sentimiento\n",
      "count                                               50000       50000\n",
      "unique                                              49599           2\n",
      "top     Hilarante, limpio, alegre y digno de cita.¿Qué...    positivo\n",
      "freq                                                    4       25000\n"
     ]
    }
   ],
   "source": [
    "# Checking dataset description\n",
    "print(df_es.describe())"
   ]
  },
  {
   "cell_type": "code",
   "execution_count": 8,
   "metadata": {},
   "outputs": [
    {
     "name": "stdout",
     "output_type": "stream",
     "text": [
      "Total:\n",
      " sentimiento\n",
      "positivo    25000\n",
      "negativo    25000\n",
      "Name: count, dtype: int64\n"
     ]
    }
   ],
   "source": [
    "# Sentiment count\n",
    "print(\"Total:\\n\", df_es['sentimiento'].value_counts())"
   ]
  },
  {
   "cell_type": "code",
   "execution_count": 10,
   "metadata": {},
   "outputs": [],
   "source": [
    "review = []\n",
    "sentences = list(df_es['reseña'])\n",
    "\n",
    "for sen in sentences:\n",
    "  review.append(sen)"
   ]
  },
  {
   "cell_type": "code",
   "execution_count": 11,
   "metadata": {},
   "outputs": [],
   "source": [
    "labels = df_es['sentimiento']\n",
    "labels = np.array(list(map(lambda x: 1 if x==\"positive\" else 0, labels)))"
   ]
  },
  {
   "cell_type": "code",
   "execution_count": 12,
   "metadata": {},
   "outputs": [],
   "source": [
    "train_sen, test_sen, train_lbl, test_lbl = train_test_split(review, labels, test_size=0.2)"
   ]
  },
  {
   "cell_type": "code",
   "execution_count": 83,
   "metadata": {},
   "outputs": [],
   "source": [
    "# Parameters\n",
    "vocab_size = 5000\n",
    "max_length = 120\n",
    "embedding_dim = 16\n",
    "trunc_type = 'post'\n",
    "oov_tok = \"<OOV>\""
   ]
  },
  {
   "cell_type": "code",
   "execution_count": 84,
   "metadata": {},
   "outputs": [],
   "source": [
    "# Initialize the tokenizer class\n",
    "tokenizer = Tokenizer(num_words = vocab_size, oov_token=oov_tok)\n",
    "\n",
    "# Generate the word index dictionary for the training sentences\n",
    "tokenizer.fit_on_texts(train_sen)\n",
    "word_index = tokenizer.word_index\n",
    "\n",
    "# Generate and pad the training sentences\n",
    "sequences = tokenizer.texts_to_sequences(train_sen)\n",
    "padded = pad_sequences(sequences, maxlen=max_length, truncating=trunc_type)\n",
    "\n",
    "# Generate and pad the test sentences\n",
    "test_sequences = tokenizer.texts_to_sequences(test_sen)\n",
    "test_padded = pad_sequences(test_sequences, maxlen=max_length, truncating=trunc_type)"
   ]
  },
  {
   "cell_type": "code",
   "execution_count": 60,
   "metadata": {},
   "outputs": [
    {
     "name": "stdout",
     "output_type": "stream",
     "text": [
      "Training files:\n",
      " [[   23     7  1560 ...     4  1302     4]\n",
      " [    9   115    10 ...     3    93     2]\n",
      " [  150   855     3 ...   522   131     7]\n",
      " ...\n",
      " [    0     0     0 ...  1288    11  1007]\n",
      " [    0     0     0 ...  2971    10  1232]\n",
      " [    0     0     0 ... 10600    19   411]] [0 0 0 ... 0 0 0]\n",
      "Testing files:\n",
      " [[ 1477  2300     7 ...     4     3    13]\n",
      " [   52    11  1054 ... 22554     8   123]\n",
      " [    3   208    93 ...     2    12 10097]\n",
      " ...\n",
      " [    0     0     0 ...    74   274   206]\n",
      " [    0     0     0 ... 13264    28    84]\n",
      " [  175     2 16206 ...    14    32   400]] [0 0 0 ... 0 0 0]\n"
     ]
    }
   ],
   "source": [
    "print('Training files:\\n', padded, train_lbl)\n",
    "print('Testing files:\\n', test_padded, test_lbl)"
   ]
  },
  {
   "cell_type": "markdown",
   "metadata": {},
   "source": [
    "# MODEL LSTM"
   ]
  },
  {
   "cell_type": "code",
   "execution_count": 85,
   "metadata": {},
   "outputs": [],
   "source": [
    "model = keras.Sequential([\n",
    "    Embedding(vocab_size, embedding_dim, input_length=max_length),\n",
    "    LSTM(64, return_sequences=True),\n",
    "    Dropout(0.5),  # Agregar Dropout después de la capa LSTM\n",
    "    LSTM(32),\n",
    "    Dropout(0.5),  # Agregar Dropout después de la segunda capa LSTM\n",
    "    Dense(1, activation='sigmoid')\n",
    "])"
   ]
  },
  {
   "cell_type": "code",
   "execution_count": 86,
   "metadata": {},
   "outputs": [],
   "source": [
    "# Setup the training parameters\n",
    "model.compile(\n",
    "    loss='binary_crossentropy',\n",
    "    optimizer='adam',\n",
    "    metrics=['accuracy']\n",
    ")"
   ]
  },
  {
   "cell_type": "code",
   "execution_count": 87,
   "metadata": {},
   "outputs": [
    {
     "data": {
      "text/html": [
       "<pre style=\"white-space:pre;overflow-x:auto;line-height:normal;font-family:Menlo,'DejaVu Sans Mono',consolas,'Courier New',monospace\"><span style=\"font-weight: bold\">Model: \"sequential_11\"</span>\n",
       "</pre>\n"
      ],
      "text/plain": [
       "\u001b[1mModel: \"sequential_11\"\u001b[0m\n"
      ]
     },
     "metadata": {},
     "output_type": "display_data"
    },
    {
     "data": {
      "text/html": [
       "<pre style=\"white-space:pre;overflow-x:auto;line-height:normal;font-family:Menlo,'DejaVu Sans Mono',consolas,'Courier New',monospace\">┏━━━━━━━━━━━━━━━━━━━━━━━━━━━━━━━━━┳━━━━━━━━━━━━━━━━━━━━━━━━┳━━━━━━━━━━━━━━━┓\n",
       "┃<span style=\"font-weight: bold\"> Layer (type)                    </span>┃<span style=\"font-weight: bold\"> Output Shape           </span>┃<span style=\"font-weight: bold\">       Param # </span>┃\n",
       "┡━━━━━━━━━━━━━━━━━━━━━━━━━━━━━━━━━╇━━━━━━━━━━━━━━━━━━━━━━━━╇━━━━━━━━━━━━━━━┩\n",
       "│ embedding_11 (<span style=\"color: #0087ff; text-decoration-color: #0087ff\">Embedding</span>)        │ ?                      │   <span style=\"color: #00af00; text-decoration-color: #00af00\">0</span> (unbuilt) │\n",
       "├─────────────────────────────────┼────────────────────────┼───────────────┤\n",
       "│ lstm_19 (<span style=\"color: #0087ff; text-decoration-color: #0087ff\">LSTM</span>)                  │ ?                      │   <span style=\"color: #00af00; text-decoration-color: #00af00\">0</span> (unbuilt) │\n",
       "├─────────────────────────────────┼────────────────────────┼───────────────┤\n",
       "│ dropout_17 (<span style=\"color: #0087ff; text-decoration-color: #0087ff\">Dropout</span>)            │ ?                      │   <span style=\"color: #00af00; text-decoration-color: #00af00\">0</span> (unbuilt) │\n",
       "├─────────────────────────────────┼────────────────────────┼───────────────┤\n",
       "│ lstm_20 (<span style=\"color: #0087ff; text-decoration-color: #0087ff\">LSTM</span>)                  │ ?                      │   <span style=\"color: #00af00; text-decoration-color: #00af00\">0</span> (unbuilt) │\n",
       "├─────────────────────────────────┼────────────────────────┼───────────────┤\n",
       "│ dropout_18 (<span style=\"color: #0087ff; text-decoration-color: #0087ff\">Dropout</span>)            │ ?                      │   <span style=\"color: #00af00; text-decoration-color: #00af00\">0</span> (unbuilt) │\n",
       "├─────────────────────────────────┼────────────────────────┼───────────────┤\n",
       "│ dense_20 (<span style=\"color: #0087ff; text-decoration-color: #0087ff\">Dense</span>)                │ ?                      │   <span style=\"color: #00af00; text-decoration-color: #00af00\">0</span> (unbuilt) │\n",
       "└─────────────────────────────────┴────────────────────────┴───────────────┘\n",
       "</pre>\n"
      ],
      "text/plain": [
       "┏━━━━━━━━━━━━━━━━━━━━━━━━━━━━━━━━━┳━━━━━━━━━━━━━━━━━━━━━━━━┳━━━━━━━━━━━━━━━┓\n",
       "┃\u001b[1m \u001b[0m\u001b[1mLayer (type)                   \u001b[0m\u001b[1m \u001b[0m┃\u001b[1m \u001b[0m\u001b[1mOutput Shape          \u001b[0m\u001b[1m \u001b[0m┃\u001b[1m \u001b[0m\u001b[1m      Param #\u001b[0m\u001b[1m \u001b[0m┃\n",
       "┡━━━━━━━━━━━━━━━━━━━━━━━━━━━━━━━━━╇━━━━━━━━━━━━━━━━━━━━━━━━╇━━━━━━━━━━━━━━━┩\n",
       "│ embedding_11 (\u001b[38;5;33mEmbedding\u001b[0m)        │ ?                      │   \u001b[38;5;34m0\u001b[0m (unbuilt) │\n",
       "├─────────────────────────────────┼────────────────────────┼───────────────┤\n",
       "│ lstm_19 (\u001b[38;5;33mLSTM\u001b[0m)                  │ ?                      │   \u001b[38;5;34m0\u001b[0m (unbuilt) │\n",
       "├─────────────────────────────────┼────────────────────────┼───────────────┤\n",
       "│ dropout_17 (\u001b[38;5;33mDropout\u001b[0m)            │ ?                      │   \u001b[38;5;34m0\u001b[0m (unbuilt) │\n",
       "├─────────────────────────────────┼────────────────────────┼───────────────┤\n",
       "│ lstm_20 (\u001b[38;5;33mLSTM\u001b[0m)                  │ ?                      │   \u001b[38;5;34m0\u001b[0m (unbuilt) │\n",
       "├─────────────────────────────────┼────────────────────────┼───────────────┤\n",
       "│ dropout_18 (\u001b[38;5;33mDropout\u001b[0m)            │ ?                      │   \u001b[38;5;34m0\u001b[0m (unbuilt) │\n",
       "├─────────────────────────────────┼────────────────────────┼───────────────┤\n",
       "│ dense_20 (\u001b[38;5;33mDense\u001b[0m)                │ ?                      │   \u001b[38;5;34m0\u001b[0m (unbuilt) │\n",
       "└─────────────────────────────────┴────────────────────────┴───────────────┘\n"
      ]
     },
     "metadata": {},
     "output_type": "display_data"
    },
    {
     "data": {
      "text/html": [
       "<pre style=\"white-space:pre;overflow-x:auto;line-height:normal;font-family:Menlo,'DejaVu Sans Mono',consolas,'Courier New',monospace\"><span style=\"font-weight: bold\"> Total params: </span><span style=\"color: #00af00; text-decoration-color: #00af00\">0</span> (0.00 B)\n",
       "</pre>\n"
      ],
      "text/plain": [
       "\u001b[1m Total params: \u001b[0m\u001b[38;5;34m0\u001b[0m (0.00 B)\n"
      ]
     },
     "metadata": {},
     "output_type": "display_data"
    },
    {
     "data": {
      "text/html": [
       "<pre style=\"white-space:pre;overflow-x:auto;line-height:normal;font-family:Menlo,'DejaVu Sans Mono',consolas,'Courier New',monospace\"><span style=\"font-weight: bold\"> Trainable params: </span><span style=\"color: #00af00; text-decoration-color: #00af00\">0</span> (0.00 B)\n",
       "</pre>\n"
      ],
      "text/plain": [
       "\u001b[1m Trainable params: \u001b[0m\u001b[38;5;34m0\u001b[0m (0.00 B)\n"
      ]
     },
     "metadata": {},
     "output_type": "display_data"
    },
    {
     "data": {
      "text/html": [
       "<pre style=\"white-space:pre;overflow-x:auto;line-height:normal;font-family:Menlo,'DejaVu Sans Mono',consolas,'Courier New',monospace\"><span style=\"font-weight: bold\"> Non-trainable params: </span><span style=\"color: #00af00; text-decoration-color: #00af00\">0</span> (0.00 B)\n",
       "</pre>\n"
      ],
      "text/plain": [
       "\u001b[1m Non-trainable params: \u001b[0m\u001b[38;5;34m0\u001b[0m (0.00 B)\n"
      ]
     },
     "metadata": {},
     "output_type": "display_data"
    }
   ],
   "source": [
    "# Print the model summary\n",
    "model.summary()"
   ]
  },
  {
   "cell_type": "code",
   "execution_count": 89,
   "metadata": {},
   "outputs": [
    {
     "name": "stdout",
     "output_type": "stream",
     "text": [
      "Epoch 1/10\n",
      "\u001b[1m2500/2500\u001b[0m \u001b[32m━━━━━━━━━━━━━━━━━━━━\u001b[0m\u001b[37m\u001b[0m \u001b[1m130s\u001b[0m 52ms/step - accuracy: 1.0000 - loss: 6.6498e-05 - val_accuracy: 1.0000 - val_loss: 6.7496e-07\n",
      "Epoch 2/10\n",
      "\u001b[1m2500/2500\u001b[0m \u001b[32m━━━━━━━━━━━━━━━━━━━━\u001b[0m\u001b[37m\u001b[0m \u001b[1m119s\u001b[0m 48ms/step - accuracy: 1.0000 - loss: 1.3813e-05 - val_accuracy: 1.0000 - val_loss: 8.3136e-08\n",
      "Epoch 3/10\n",
      "\u001b[1m2500/2500\u001b[0m \u001b[32m━━━━━━━━━━━━━━━━━━━━\u001b[0m\u001b[37m\u001b[0m \u001b[1m115s\u001b[0m 46ms/step - accuracy: 1.0000 - loss: 4.1816e-06 - val_accuracy: 1.0000 - val_loss: 1.0541e-08\n",
      "Epoch 4/10\n",
      "\u001b[1m2500/2500\u001b[0m \u001b[32m━━━━━━━━━━━━━━━━━━━━\u001b[0m\u001b[37m\u001b[0m \u001b[1m115s\u001b[0m 46ms/step - accuracy: 1.0000 - loss: 2.2280e-06 - val_accuracy: 1.0000 - val_loss: 1.0808e-09\n",
      "Epoch 5/10\n",
      "\u001b[1m2500/2500\u001b[0m \u001b[32m━━━━━━━━━━━━━━━━━━━━\u001b[0m\u001b[37m\u001b[0m \u001b[1m121s\u001b[0m 49ms/step - accuracy: 1.0000 - loss: 6.7988e-07 - val_accuracy: 1.0000 - val_loss: 1.3766e-10\n",
      "Epoch 6/10\n",
      "\u001b[1m2500/2500\u001b[0m \u001b[32m━━━━━━━━━━━━━━━━━━━━\u001b[0m\u001b[37m\u001b[0m \u001b[1m150s\u001b[0m 60ms/step - accuracy: 1.0000 - loss: 1.9727e-07 - val_accuracy: 1.0000 - val_loss: 2.2223e-11\n",
      "Epoch 7/10\n",
      "\u001b[1m2500/2500\u001b[0m \u001b[32m━━━━━━━━━━━━━━━━━━━━\u001b[0m\u001b[37m\u001b[0m \u001b[1m154s\u001b[0m 62ms/step - accuracy: 1.0000 - loss: 9.4372e-08 - val_accuracy: 1.0000 - val_loss: 3.9032e-12\n",
      "Epoch 8/10\n",
      "\u001b[1m2500/2500\u001b[0m \u001b[32m━━━━━━━━━━━━━━━━━━━━\u001b[0m\u001b[37m\u001b[0m \u001b[1m151s\u001b[0m 60ms/step - accuracy: 1.0000 - loss: 3.6310e-08 - val_accuracy: 1.0000 - val_loss: 5.6577e-13\n",
      "Epoch 9/10\n",
      "\u001b[1m2500/2500\u001b[0m \u001b[32m━━━━━━━━━━━━━━━━━━━━\u001b[0m\u001b[37m\u001b[0m \u001b[1m152s\u001b[0m 61ms/step - accuracy: 1.0000 - loss: 8.4337e-08 - val_accuracy: 1.0000 - val_loss: 1.4151e-13\n",
      "Epoch 10/10\n",
      "\u001b[1m2500/2500\u001b[0m \u001b[32m━━━━━━━━━━━━━━━━━━━━\u001b[0m\u001b[37m\u001b[0m \u001b[1m151s\u001b[0m 61ms/step - accuracy: 1.0000 - loss: 1.3118e-08 - val_accuracy: 1.0000 - val_loss: 4.7359e-14\n"
     ]
    }
   ],
   "source": [
    "# Train the model\n",
    "history = model.fit(\n",
    "    padded,\n",
    "    train_lbl,\n",
    "    epochs = 10,\n",
    "    batch_size=16,\n",
    "    verbose = 1,\n",
    "    validation_data = (test_padded, test_lbl)\n",
    ")"
   ]
  },
  {
   "cell_type": "code",
   "execution_count": 90,
   "metadata": {},
   "outputs": [
    {
     "data": {
      "image/png": "[encoded data removed]",
      "text/plain": [
       "<Figure size 1200x500 with 2 Axes>"
      ]
     },
     "metadata": {},
     "output_type": "display_data"
    }
   ],
   "source": [
    "plot_history(history)"
   ]
  },
  {
   "cell_type": "code",
   "execution_count": 91,
   "metadata": {},
   "outputs": [
    {
     "name": "stdout",
     "output_type": "stream",
     "text": [
      "\u001b[1m313/313\u001b[0m \u001b[32m━━━━━━━━━━━━━━━━━━━━\u001b[0m\u001b[37m\u001b[0m \u001b[1m7s\u001b[0m 22ms/step - accuracy: 1.0000 - loss: 4.7359e-14\n",
      "Exactitud en el conjunto de prueba: 1.0\n"
     ]
    }
   ],
   "source": [
    "# Evaluar el modelo en datos de prueba\n",
    "test_loss, test_accuracy = model.evaluate(test_padded, test_lbl)\n",
    "\n",
    "print(\"Exactitud en el conjunto de prueba:\", test_accuracy)"
   ]
  },
  {
   "cell_type": "code",
   "execution_count": 31,
   "metadata": {},
   "outputs": [],
   "source": [
    "prueba = [\n",
    "    \"La comida en este restaurante es excelente, siempre vuelvo por más.\",\n",
    "    \"No recomendaría este lugar a nadie, la comida estaba fría y el servicio era terrible.\",\n",
    "    \"¡Qué película tan emocionante! Me mantuvo al borde de mi asiento durante toda la película.\",\n",
    "    \"El producto llegó rápido y en perfectas condiciones. Muy satisfecho con mi compra.\",\n",
    "    \"El servicio al cliente es increíblemente malo en esta tienda. No vuelvo nunca más.\",\n",
    "    \"Una experiencia maravillosa, el personal fue muy amable y atento.\",\n",
    "    \"No estoy contento con la calidad de los productos que recibí. No se parecen en nada a las fotos en línea.\",\n",
    "    \"Este libro es una obra maestra. No puedo dejar de recomendarlo a todos mis amigos.\",\n",
    "    \"El hotel en el que nos alojamos durante nuestras vacaciones era horrible. Habitaciones sucias y personal poco profesional.\",\n",
    "    \"El último episodio de mi serie favorita me dejó sin palabras. ¡Qué final tan impactante!\",\n",
    "    \"El producto es tal como se describe en la página web. Muy contento con mi compra.\",\n",
    "    \"La comida en este lugar es decepcionante. No vale la pena el precio que pagas.\",\n",
    "    \"¡Qué gran concierto! La banda dio lo mejor de sí misma y la audiencia estaba emocionada.\",\n",
    "    \"No estoy seguro de por qué a tanta gente le gusta esta película. La encontré aburrida y predecible.\",\n",
    "    \"El servicio de entrega fue muy rápido. Recibí mi pedido en menos de 24 horas.\",\n",
    "    \"El personal de este restaurante es grosero y poco profesional. No volveré nunca más.\",\n",
    "    \"¡Qué gran día! El clima era perfecto y pasé tiempo con amigos y familiares.\",\n",
    "    \"El producto llegó dañado y tardaron semanas en procesar mi devolución. Muy decepcionado.\",\n",
    "    \"El concierto fue cancelado en el último minuto y no nos dieron ninguna explicación. Una falta de respeto total.\",\n",
    "    \"Me encantó este libro. Los personajes eran fascinantes y la trama era emocionante.\",\n",
    "    \"La comida en este lugar es deliciosa. Recomiendo encarecidamente probar el plato de la casa.\",\n",
    "    \"El servicio al cliente en esta tienda es excelente. Siempre me ayudan con cualquier problema que tenga.\",\n",
    "    \"La calidad de este producto es pésima. Se rompió después de un solo uso.\",\n",
    "    \"¡Qué experiencia tan horrible! El personal era grosero y la comida estaba fría cuando finalmente llegó.\",\n",
    "    \"Esta película es la peor que he visto en mi vida. No pierdas tu tiempo viéndola.\",\n",
    "    \"El servicio de entrega fue lento y el paquete llegó dañado. No estoy contento en absoluto.\",\n",
    "    \"La actuación en esta obra de teatro fue impresionante. Los actores realmente dieron lo mejor de sí mismos.\",\n",
    "    \"No estoy seguro de qué esperaba, pero este producto fue una gran decepción. No lo recomendaría a nadie.\",\n",
    "    \"El servicio en este restaurante es excelente. El personal es amable y la comida es deliciosa.\",\n",
    "    \"¡Qué película tan aburrida! Me quedé dormido antes de que terminara.\",\n",
    "    \"El producto que pedí nunca llegó y el servicio de atención al cliente no fue de ayuda en absoluto.\",\n",
    "    \"¡Qué día tan desastroso! Todo lo que podría salir mal, salió mal.\",\n",
    "    \"Este libro es una pérdida de tiempo. La trama es débil y los personajes son poco interesantes.\",\n",
    "    \"La comida en este restaurante es increíble. Volvería una y otra vez.\",\n",
    "    \"El servicio al cliente en esta tienda es terrible. Los empleados son groseros y poco serviciales.\",\n",
    "    \"¡Qué gran experiencia de compra! El producto era exactamente lo que estaba buscando.\",\n",
    "    \"No puedo creer lo mal que fue este concierto. La banda estaba fuera de sintonía y el sonido era horrible.\",\n",
    "    \"El producto llegó tarde y estaba dañado cuando finalmente llegó. Muy decepcionado con mi compra.\",\n",
    "    \"Esta película es increíble. Me reí, lloré y me mantuvo intrigado hasta el final.\",\n",
    "    \"El servicio en este restaurante es terrible. Esperamos más de una hora para nuestra comida.\",\n",
    "    \"No puedo creer que haya perdido mi tiempo viendo esta película. La trama era predecible y los actores eran malos.\",\n",
    "    \"El producto que recibí no era lo que esperaba en absoluto. No recomendaría comprarlo.\",\n",
    "    \"La comida en este lugar es terrible. No volveré nunca más.\",\n",
    "    \"¡Qué experiencia tan maravillosa! El personal era amable y servicial, y la comida era deliciosa.\",\n",
    "    \"No estoy contento con este producto en absoluto. La calidad es baja y no cumple con mis expectativas.\",\n",
    "    \"Esta película es la mejor que he visto en años. La trama era emocionante y los actores eran increíbles.\",\n",
    "    \"El servicio de entrega fue rápido y el producto llegó en perfecto estado. Muy satisfecho con mi compra.\",\n",
    "    \"La comida en este restaurante es asquerosa. No volveré nunca más.\",\n",
    "    \"¡Qué decepción! El producto que recibí estaba defectuoso y no pude obtener un reembolso.\",\n",
    "    \"Me encantó este concierto. La banda tocó todas mis canciones favoritas y el ambiente era genial.\",\n",
    "    \"El servicio en este restaurante es lento y descuidado. No volveré nunca más.\"\n",
    "]"
   ]
  },
  {
   "cell_type": "code",
   "execution_count": 37,
   "metadata": {},
   "outputs": [],
   "source": [
    "def clasificar(reseña):\n",
    "    tokenize = tokenizer.texts_to_sequences([reseña])\n",
    "    tokenize = pad_sequences(tokenize, maxlen=max_length)\n",
    "    text_classified = model.predict(tokenize)[0][0]\n",
    "\n",
    "    # Determinar la clase basada en la probabilidad\n",
    "    if text_classified >= 0.5:\n",
    "        clase = 'positivo'\n",
    "    else:\n",
    "        clase = 'negativo'\n",
    "\n",
    "    print(\"Reseña clasificada\\n\", reseña)\n",
    "    print(\"Sentimiento: \", clase)"
   ]
  },
  {
   "cell_type": "code",
   "execution_count": 92,
   "metadata": {},
   "outputs": [
    {
     "name": "stdout",
     "output_type": "stream",
     "text": [
      "\u001b[1m1/1\u001b[0m \u001b[32m━━━━━━━━━━━━━━━━━━━━\u001b[0m\u001b[37m\u001b[0m \u001b[1m0s\u001b[0m 269ms/step\n",
      "Reseña clasificada\n",
      " La comida en este restaurante es excelente, siempre vuelvo por más.\n",
      "Sentimiento:  negativo\n",
      "\u001b[1m1/1\u001b[0m \u001b[32m━━━━━━━━━━━━━━━━━━━━\u001b[0m\u001b[37m\u001b[0m \u001b[1m0s\u001b[0m 25ms/step\n",
      "Reseña clasificada\n",
      " No recomendaría este lugar a nadie, la comida estaba fría y el servicio era terrible.\n",
      "Sentimiento:  negativo\n",
      "\u001b[1m1/1\u001b[0m \u001b[32m━━━━━━━━━━━━━━━━━━━━\u001b[0m\u001b[37m\u001b[0m \u001b[1m0s\u001b[0m 28ms/step\n",
      "Reseña clasificada\n",
      " ¡Qué película tan emocionante! Me mantuvo al borde de mi asiento durante toda la película.\n",
      "Sentimiento:  negativo\n",
      "\u001b[1m1/1\u001b[0m \u001b[32m━━━━━━━━━━━━━━━━━━━━\u001b[0m\u001b[37m\u001b[0m \u001b[1m0s\u001b[0m 28ms/step\n",
      "Reseña clasificada\n",
      " El producto llegó rápido y en perfectas condiciones. Muy satisfecho con mi compra.\n",
      "Sentimiento:  negativo\n",
      "\u001b[1m1/1\u001b[0m \u001b[32m━━━━━━━━━━━━━━━━━━━━\u001b[0m\u001b[37m\u001b[0m \u001b[1m0s\u001b[0m 30ms/step\n",
      "Reseña clasificada\n",
      " El servicio al cliente es increíblemente malo en esta tienda. No vuelvo nunca más.\n",
      "Sentimiento:  negativo\n",
      "\u001b[1m1/1\u001b[0m \u001b[32m━━━━━━━━━━━━━━━━━━━━\u001b[0m\u001b[37m\u001b[0m \u001b[1m0s\u001b[0m 30ms/step\n",
      "Reseña clasificada\n",
      " Una experiencia maravillosa, el personal fue muy amable y atento.\n",
      "Sentimiento:  negativo\n",
      "\u001b[1m1/1\u001b[0m \u001b[32m━━━━━━━━━━━━━━━━━━━━\u001b[0m\u001b[37m\u001b[0m \u001b[1m0s\u001b[0m 27ms/step\n",
      "Reseña clasificada\n",
      " No estoy contento con la calidad de los productos que recibí. No se parecen en nada a las fotos en línea.\n",
      "Sentimiento:  negativo\n",
      "\u001b[1m1/1\u001b[0m \u001b[32m━━━━━━━━━━━━━━━━━━━━\u001b[0m\u001b[37m\u001b[0m \u001b[1m0s\u001b[0m 26ms/step\n",
      "Reseña clasificada\n",
      " Este libro es una obra maestra. No puedo dejar de recomendarlo a todos mis amigos.\n",
      "Sentimiento:  negativo\n",
      "\u001b[1m1/1\u001b[0m \u001b[32m━━━━━━━━━━━━━━━━━━━━\u001b[0m\u001b[37m\u001b[0m \u001b[1m0s\u001b[0m 27ms/step\n",
      "Reseña clasificada\n",
      " El hotel en el que nos alojamos durante nuestras vacaciones era horrible. Habitaciones sucias y personal poco profesional.\n",
      "Sentimiento:  negativo\n",
      "\u001b[1m1/1\u001b[0m \u001b[32m━━━━━━━━━━━━━━━━━━━━\u001b[0m\u001b[37m\u001b[0m \u001b[1m0s\u001b[0m 27ms/step\n",
      "Reseña clasificada\n",
      " El último episodio de mi serie favorita me dejó sin palabras. ¡Qué final tan impactante!\n",
      "Sentimiento:  negativo\n",
      "\u001b[1m1/1\u001b[0m \u001b[32m━━━━━━━━━━━━━━━━━━━━\u001b[0m\u001b[37m\u001b[0m \u001b[1m0s\u001b[0m 28ms/step\n",
      "Reseña clasificada\n",
      " El producto es tal como se describe en la página web. Muy contento con mi compra.\n",
      "Sentimiento:  negativo\n",
      "\u001b[1m1/1\u001b[0m \u001b[32m━━━━━━━━━━━━━━━━━━━━\u001b[0m\u001b[37m\u001b[0m \u001b[1m0s\u001b[0m 26ms/step\n",
      "Reseña clasificada\n",
      " La comida en este lugar es decepcionante. No vale la pena el precio que pagas.\n",
      "Sentimiento:  negativo\n",
      "\u001b[1m1/1\u001b[0m \u001b[32m━━━━━━━━━━━━━━━━━━━━\u001b[0m\u001b[37m\u001b[0m \u001b[1m0s\u001b[0m 29ms/step\n",
      "Reseña clasificada\n",
      " ¡Qué gran concierto! La banda dio lo mejor de sí misma y la audiencia estaba emocionada.\n",
      "Sentimiento:  negativo\n",
      "\u001b[1m1/1\u001b[0m \u001b[32m━━━━━━━━━━━━━━━━━━━━\u001b[0m\u001b[37m\u001b[0m \u001b[1m0s\u001b[0m 28ms/step\n",
      "Reseña clasificada\n",
      " No estoy seguro de por qué a tanta gente le gusta esta película. La encontré aburrida y predecible.\n",
      "Sentimiento:  negativo\n",
      "\u001b[1m1/1\u001b[0m \u001b[32m━━━━━━━━━━━━━━━━━━━━\u001b[0m\u001b[37m\u001b[0m \u001b[1m0s\u001b[0m 26ms/step\n",
      "Reseña clasificada\n",
      " El servicio de entrega fue muy rápido. Recibí mi pedido en menos de 24 horas.\n",
      "Sentimiento:  negativo\n",
      "\u001b[1m1/1\u001b[0m \u001b[32m━━━━━━━━━━━━━━━━━━━━\u001b[0m\u001b[37m\u001b[0m \u001b[1m0s\u001b[0m 27ms/step\n",
      "Reseña clasificada\n",
      " El personal de este restaurante es grosero y poco profesional. No volveré nunca más.\n",
      "Sentimiento:  negativo\n",
      "\u001b[1m1/1\u001b[0m \u001b[32m━━━━━━━━━━━━━━━━━━━━\u001b[0m\u001b[37m\u001b[0m \u001b[1m0s\u001b[0m 25ms/step\n",
      "Reseña clasificada\n",
      " ¡Qué gran día! El clima era perfecto y pasé tiempo con amigos y familiares.\n",
      "Sentimiento:  negativo\n",
      "\u001b[1m1/1\u001b[0m \u001b[32m━━━━━━━━━━━━━━━━━━━━\u001b[0m\u001b[37m\u001b[0m \u001b[1m0s\u001b[0m 27ms/step\n",
      "Reseña clasificada\n",
      " El producto llegó dañado y tardaron semanas en procesar mi devolución. Muy decepcionado.\n",
      "Sentimiento:  negativo\n",
      "\u001b[1m1/1\u001b[0m \u001b[32m━━━━━━━━━━━━━━━━━━━━\u001b[0m\u001b[37m\u001b[0m \u001b[1m0s\u001b[0m 29ms/step\n",
      "Reseña clasificada\n",
      " El concierto fue cancelado en el último minuto y no nos dieron ninguna explicación. Una falta de respeto total.\n",
      "Sentimiento:  negativo\n",
      "\u001b[1m1/1\u001b[0m \u001b[32m━━━━━━━━━━━━━━━━━━━━\u001b[0m\u001b[37m\u001b[0m \u001b[1m0s\u001b[0m 25ms/step\n",
      "Reseña clasificada\n",
      " Me encantó este libro. Los personajes eran fascinantes y la trama era emocionante.\n",
      "Sentimiento:  negativo\n",
      "\u001b[1m1/1\u001b[0m \u001b[32m━━━━━━━━━━━━━━━━━━━━\u001b[0m\u001b[37m\u001b[0m \u001b[1m0s\u001b[0m 26ms/step\n",
      "Reseña clasificada\n",
      " La comida en este lugar es deliciosa. Recomiendo encarecidamente probar el plato de la casa.\n",
      "Sentimiento:  negativo\n",
      "\u001b[1m1/1\u001b[0m \u001b[32m━━━━━━━━━━━━━━━━━━━━\u001b[0m\u001b[37m\u001b[0m \u001b[1m0s\u001b[0m 26ms/step\n",
      "Reseña clasificada\n",
      " El servicio al cliente en esta tienda es excelente. Siempre me ayudan con cualquier problema que tenga.\n",
      "Sentimiento:  negativo\n",
      "\u001b[1m1/1\u001b[0m \u001b[32m━━━━━━━━━━━━━━━━━━━━\u001b[0m\u001b[37m\u001b[0m \u001b[1m0s\u001b[0m 27ms/step\n",
      "Reseña clasificada\n",
      " La calidad de este producto es pésima. Se rompió después de un solo uso.\n",
      "Sentimiento:  negativo\n",
      "\u001b[1m1/1\u001b[0m \u001b[32m━━━━━━━━━━━━━━━━━━━━\u001b[0m\u001b[37m\u001b[0m \u001b[1m0s\u001b[0m 31ms/step\n",
      "Reseña clasificada\n",
      " ¡Qué experiencia tan horrible! El personal era grosero y la comida estaba fría cuando finalmente llegó.\n",
      "Sentimiento:  negativo\n",
      "\u001b[1m1/1\u001b[0m \u001b[32m━━━━━━━━━━━━━━━━━━━━\u001b[0m\u001b[37m\u001b[0m \u001b[1m0s\u001b[0m 26ms/step\n",
      "Reseña clasificada\n",
      " Esta película es la peor que he visto en mi vida. No pierdas tu tiempo viéndola.\n",
      "Sentimiento:  negativo\n",
      "\u001b[1m1/1\u001b[0m \u001b[32m━━━━━━━━━━━━━━━━━━━━\u001b[0m\u001b[37m\u001b[0m \u001b[1m0s\u001b[0m 26ms/step\n",
      "Reseña clasificada\n",
      " El servicio de entrega fue lento y el paquete llegó dañado. No estoy contento en absoluto.\n",
      "Sentimiento:  negativo\n",
      "\u001b[1m1/1\u001b[0m \u001b[32m━━━━━━━━━━━━━━━━━━━━\u001b[0m\u001b[37m\u001b[0m \u001b[1m0s\u001b[0m 28ms/step\n",
      "Reseña clasificada\n",
      " La actuación en esta obra de teatro fue impresionante. Los actores realmente dieron lo mejor de sí mismos.\n",
      "Sentimiento:  negativo\n",
      "\u001b[1m1/1\u001b[0m \u001b[32m━━━━━━━━━━━━━━━━━━━━\u001b[0m\u001b[37m\u001b[0m \u001b[1m0s\u001b[0m 27ms/step\n",
      "Reseña clasificada\n",
      " No estoy seguro de qué esperaba, pero este producto fue una gran decepción. No lo recomendaría a nadie.\n",
      "Sentimiento:  negativo\n",
      "\u001b[1m1/1\u001b[0m \u001b[32m━━━━━━━━━━━━━━━━━━━━\u001b[0m\u001b[37m\u001b[0m \u001b[1m0s\u001b[0m 26ms/step\n",
      "Reseña clasificada\n",
      " El servicio en este restaurante es excelente. El personal es amable y la comida es deliciosa.\n",
      "Sentimiento:  negativo\n",
      "\u001b[1m1/1\u001b[0m \u001b[32m━━━━━━━━━━━━━━━━━━━━\u001b[0m\u001b[37m\u001b[0m \u001b[1m0s\u001b[0m 25ms/step\n",
      "Reseña clasificada\n",
      " ¡Qué película tan aburrida! Me quedé dormido antes de que terminara.\n",
      "Sentimiento:  negativo\n",
      "\u001b[1m1/1\u001b[0m \u001b[32m━━━━━━━━━━━━━━━━━━━━\u001b[0m\u001b[37m\u001b[0m \u001b[1m0s\u001b[0m 26ms/step\n",
      "Reseña clasificada\n",
      " El producto que pedí nunca llegó y el servicio de atención al cliente no fue de ayuda en absoluto.\n",
      "Sentimiento:  negativo\n",
      "\u001b[1m1/1\u001b[0m \u001b[32m━━━━━━━━━━━━━━━━━━━━\u001b[0m\u001b[37m\u001b[0m \u001b[1m0s\u001b[0m 25ms/step\n",
      "Reseña clasificada\n",
      " ¡Qué día tan desastroso! Todo lo que podría salir mal, salió mal.\n",
      "Sentimiento:  negativo\n",
      "\u001b[1m1/1\u001b[0m \u001b[32m━━━━━━━━━━━━━━━━━━━━\u001b[0m\u001b[37m\u001b[0m \u001b[1m0s\u001b[0m 26ms/step\n",
      "Reseña clasificada\n",
      " Este libro es una pérdida de tiempo. La trama es débil y los personajes son poco interesantes.\n",
      "Sentimiento:  negativo\n",
      "\u001b[1m1/1\u001b[0m \u001b[32m━━━━━━━━━━━━━━━━━━━━\u001b[0m\u001b[37m\u001b[0m \u001b[1m0s\u001b[0m 26ms/step\n",
      "Reseña clasificada\n",
      " La comida en este restaurante es increíble. Volvería una y otra vez.\n",
      "Sentimiento:  negativo\n",
      "\u001b[1m1/1\u001b[0m \u001b[32m━━━━━━━━━━━━━━━━━━━━\u001b[0m\u001b[37m\u001b[0m \u001b[1m0s\u001b[0m 27ms/step\n",
      "Reseña clasificada\n",
      " El servicio al cliente en esta tienda es terrible. Los empleados son groseros y poco serviciales.\n",
      "Sentimiento:  negativo\n",
      "\u001b[1m1/1\u001b[0m \u001b[32m━━━━━━━━━━━━━━━━━━━━\u001b[0m\u001b[37m\u001b[0m \u001b[1m0s\u001b[0m 27ms/step\n",
      "Reseña clasificada\n",
      " ¡Qué gran experiencia de compra! El producto era exactamente lo que estaba buscando.\n",
      "Sentimiento:  negativo\n",
      "\u001b[1m1/1\u001b[0m \u001b[32m━━━━━━━━━━━━━━━━━━━━\u001b[0m\u001b[37m\u001b[0m \u001b[1m0s\u001b[0m 28ms/step\n",
      "Reseña clasificada\n",
      " No puedo creer lo mal que fue este concierto. La banda estaba fuera de sintonía y el sonido era horrible.\n",
      "Sentimiento:  negativo\n",
      "\u001b[1m1/1\u001b[0m \u001b[32m━━━━━━━━━━━━━━━━━━━━\u001b[0m\u001b[37m\u001b[0m \u001b[1m0s\u001b[0m 26ms/step\n",
      "Reseña clasificada\n",
      " El producto llegó tarde y estaba dañado cuando finalmente llegó. Muy decepcionado con mi compra.\n",
      "Sentimiento:  negativo\n",
      "\u001b[1m1/1\u001b[0m \u001b[32m━━━━━━━━━━━━━━━━━━━━\u001b[0m\u001b[37m\u001b[0m \u001b[1m0s\u001b[0m 27ms/step\n",
      "Reseña clasificada\n",
      " Esta película es increíble. Me reí, lloré y me mantuvo intrigado hasta el final.\n",
      "Sentimiento:  negativo\n",
      "\u001b[1m1/1\u001b[0m \u001b[32m━━━━━━━━━━━━━━━━━━━━\u001b[0m\u001b[37m\u001b[0m \u001b[1m0s\u001b[0m 24ms/step\n",
      "Reseña clasificada\n",
      " El servicio en este restaurante es terrible. Esperamos más de una hora para nuestra comida.\n",
      "Sentimiento:  negativo\n",
      "\u001b[1m1/1\u001b[0m \u001b[32m━━━━━━━━━━━━━━━━━━━━\u001b[0m\u001b[37m\u001b[0m \u001b[1m0s\u001b[0m 27ms/step\n",
      "Reseña clasificada\n",
      " No puedo creer que haya perdido mi tiempo viendo esta película. La trama era predecible y los actores eran malos.\n",
      "Sentimiento:  negativo\n",
      "\u001b[1m1/1\u001b[0m \u001b[32m━━━━━━━━━━━━━━━━━━━━\u001b[0m\u001b[37m\u001b[0m \u001b[1m0s\u001b[0m 26ms/step\n",
      "Reseña clasificada\n",
      " El producto que recibí no era lo que esperaba en absoluto. No recomendaría comprarlo.\n",
      "Sentimiento:  negativo\n",
      "\u001b[1m1/1\u001b[0m \u001b[32m━━━━━━━━━━━━━━━━━━━━\u001b[0m\u001b[37m\u001b[0m \u001b[1m0s\u001b[0m 28ms/step\n",
      "Reseña clasificada\n",
      " La comida en este lugar es terrible. No volveré nunca más.\n",
      "Sentimiento:  negativo\n",
      "\u001b[1m1/1\u001b[0m \u001b[32m━━━━━━━━━━━━━━━━━━━━\u001b[0m\u001b[37m\u001b[0m \u001b[1m0s\u001b[0m 26ms/step\n",
      "Reseña clasificada\n",
      " ¡Qué experiencia tan maravillosa! El personal era amable y servicial, y la comida era deliciosa.\n",
      "Sentimiento:  negativo\n",
      "\u001b[1m1/1\u001b[0m \u001b[32m━━━━━━━━━━━━━━━━━━━━\u001b[0m\u001b[37m\u001b[0m \u001b[1m0s\u001b[0m 25ms/step\n",
      "Reseña clasificada\n",
      " No estoy contento con este producto en absoluto. La calidad es baja y no cumple con mis expectativas.\n",
      "Sentimiento:  negativo\n",
      "\u001b[1m1/1\u001b[0m \u001b[32m━━━━━━━━━━━━━━━━━━━━\u001b[0m\u001b[37m\u001b[0m \u001b[1m0s\u001b[0m 27ms/step\n",
      "Reseña clasificada\n",
      " Esta película es la mejor que he visto en años. La trama era emocionante y los actores eran increíbles.\n",
      "Sentimiento:  negativo\n",
      "\u001b[1m1/1\u001b[0m \u001b[32m━━━━━━━━━━━━━━━━━━━━\u001b[0m\u001b[37m\u001b[0m \u001b[1m0s\u001b[0m 25ms/step\n",
      "Reseña clasificada\n",
      " El servicio de entrega fue rápido y el producto llegó en perfecto estado. Muy satisfecho con mi compra.\n",
      "Sentimiento:  negativo\n",
      "\u001b[1m1/1\u001b[0m \u001b[32m━━━━━━━━━━━━━━━━━━━━\u001b[0m\u001b[37m\u001b[0m \u001b[1m0s\u001b[0m 27ms/step\n",
      "Reseña clasificada\n",
      " La comida en este restaurante es asquerosa. No volveré nunca más.\n",
      "Sentimiento:  negativo\n",
      "\u001b[1m1/1\u001b[0m \u001b[32m━━━━━━━━━━━━━━━━━━━━\u001b[0m\u001b[37m\u001b[0m \u001b[1m0s\u001b[0m 28ms/step\n",
      "Reseña clasificada\n",
      " ¡Qué decepción! El producto que recibí estaba defectuoso y no pude obtener un reembolso.\n",
      "Sentimiento:  negativo\n",
      "\u001b[1m1/1\u001b[0m \u001b[32m━━━━━━━━━━━━━━━━━━━━\u001b[0m\u001b[37m\u001b[0m \u001b[1m0s\u001b[0m 26ms/step\n",
      "Reseña clasificada\n",
      " Me encantó este concierto. La banda tocó todas mis canciones favoritas y el ambiente era genial.\n",
      "Sentimiento:  negativo\n",
      "\u001b[1m1/1\u001b[0m \u001b[32m━━━━━━━━━━━━━━━━━━━━\u001b[0m\u001b[37m\u001b[0m \u001b[1m0s\u001b[0m 27ms/step\n",
      "Reseña clasificada\n",
      " El servicio en este restaurante es lento y descuidado. No volveré nunca más.\n",
      "Sentimiento:  negativo\n"
     ]
    }
   ],
   "source": [
    "# Evaluar el modelo en datos de prueba\n",
    "for sen_prueba in prueba:\n",
    "    clasificar(sen_prueba)"
   ]
  }
 ],
 "metadata": {
  "kernelspec": {
   "display_name": "Temp",
   "language": "python",
   "name": "python3"
  },
  "language_info": {
   "codemirror_mode": {
    "name": "ipython",
    "version": 3
   },
   "file_extension": ".py",
   "mimetype": "text/x-python",
   "name": "python",
   "nbconvert_exporter": "python",
   "pygments_lexer": "ipython3",
   "version": "3.12.1"
  }
 },
 "nbformat": 4,
 "nbformat_minor": 2
}
