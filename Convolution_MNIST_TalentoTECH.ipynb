{
  "nbformat": 4,
  "nbformat_minor": 0,
  "metadata": {
    "colab": {
      "provenance": [],
      "gpuType": "T4",
      "authorship_tag": "ABX9TyMSUQz7CRt8rydSbDDG6sdC",
      "include_colab_link": true
    },
    "kernelspec": {
      "name": "python3",
      "display_name": "Python 3"
    },
    "language_info": {
      "name": "python"
    },
    "accelerator": "GPU"
  },
  "cells": [
    {
      "cell_type": "markdown",
      "metadata": {
        "id": "view-in-github",
        "colab_type": "text"
      },
      "source": [
        "<a href=\"https://colab.research.google.com/github/EdwinAR99/TalentoTECH-Repo/blob/master/Convolution_MNIST_TalentoTECH.ipynb\" target=\"_parent\"><img src=\"https://colab.research.google.com/assets/colab-badge.svg\" alt=\"Open In Colab\"/></a>"
      ]
    },
    {
      "cell_type": "markdown",
      "source": [
        "# IMPORT LIBS"
      ],
      "metadata": {
        "id": "i7GjY6XVI1dI"
      }
    },
    {
      "cell_type": "code",
      "execution_count": 16,
      "metadata": {
        "id": "2NpEOgzlIn0G"
      },
      "outputs": [],
      "source": [
        "import keras\n",
        "from keras.models import Sequential, Model\n",
        "from keras.layers import Conv2D, MaxPooling2D, Flatten, Dense\n",
        "\n",
        "import numpy as np\n",
        "import pandas as pd\n",
        "import matplotlib.pyplot as plt"
      ]
    },
    {
      "cell_type": "markdown",
      "source": [
        "#DATASET MNIST"
      ],
      "metadata": {
        "id": "XxLYRJ-_JBxK"
      }
    },
    {
      "cell_type": "code",
      "source": [
        "# Charge the MNIST dataset\n",
        "mnist = keras.datasets.mnist\n",
        "\n",
        "# Load the training and test split of MNIST dataset\n",
        "(x_train, y_train), (x_test, y_test) = mnist.load_data()"
      ],
      "metadata": {
        "colab": {
          "base_uri": "https://localhost:8080/"
        },
        "id": "W0EP-U_qJFba",
        "outputId": "ab1d6c8c-455c-491d-a442-06bec28788ca"
      },
      "execution_count": 2,
      "outputs": [
        {
          "output_type": "stream",
          "name": "stdout",
          "text": [
            "Downloading data from https://storage.googleapis.com/tensorflow/tf-keras-datasets/mnist.npz\n",
            "11490434/11490434 [==============================] - 0s 0us/step\n"
          ]
        }
      ]
    },
    {
      "cell_type": "code",
      "source": [
        "# Normalize the training and test pixels values of images\n",
        "x_train = x_train / 255\n",
        "x_test = x_test / 255"
      ],
      "metadata": {
        "id": "RDU9FU-cJ8iR"
      },
      "execution_count": 3,
      "outputs": []
    },
    {
      "cell_type": "markdown",
      "source": [
        "# MODEL"
      ],
      "metadata": {
        "id": "9gvdMQl-95fj"
      }
    },
    {
      "cell_type": "code",
      "source": [
        "# Build the classification model\n",
        "model = Sequential([\n",
        "    # Add convolutional and max pooling layers\n",
        "    Conv2D(32, (3, 3), activation='relu', input_shape=(28, 28, 1)),\n",
        "    MaxPooling2D(2, 2),\n",
        "\n",
        "    # Add the same layers as before\n",
        "    Flatten(),\n",
        "    Dense(128, activation='relu'),\n",
        "    Dense(10, activation='softmax')\n",
        "])\n",
        "\n",
        "model.summary()"
      ],
      "metadata": {
        "colab": {
          "base_uri": "https://localhost:8080/"
        },
        "id": "AhpSRpWfKhOv",
        "outputId": "c68a030f-74f6-4870-c253-9a9935f87cd0"
      },
      "execution_count": 4,
      "outputs": [
        {
          "output_type": "stream",
          "name": "stdout",
          "text": [
            "Model: \"sequential\"\n",
            "_________________________________________________________________\n",
            " Layer (type)                Output Shape              Param #   \n",
            "=================================================================\n",
            " conv2d (Conv2D)             (None, 26, 26, 32)        320       \n",
            "                                                                 \n",
            " max_pooling2d (MaxPooling2  (None, 13, 13, 32)        0         \n",
            " D)                                                              \n",
            "                                                                 \n",
            " flatten (Flatten)           (None, 5408)              0         \n",
            "                                                                 \n",
            " dense (Dense)               (None, 128)               692352    \n",
            "                                                                 \n",
            " dense_1 (Dense)             (None, 10)                1290      \n",
            "                                                                 \n",
            "=================================================================\n",
            "Total params: 693962 (2.65 MB)\n",
            "Trainable params: 693962 (2.65 MB)\n",
            "Non-trainable params: 0 (0.00 Byte)\n",
            "_________________________________________________________________\n"
          ]
        }
      ]
    },
    {
      "cell_type": "code",
      "source": [
        "# Compile the model\n",
        "model.compile(\n",
        "    optimizer='adam',\n",
        "    loss='sparse_categorical_crossentropy',\n",
        "    metrics=['accuracy']\n",
        ")"
      ],
      "metadata": {
        "id": "fNLomfQmLtR7"
      },
      "execution_count": 5,
      "outputs": []
    },
    {
      "cell_type": "code",
      "source": [
        "# Training the model\n",
        "history = model.fit(x_train, y_train, epochs=10)"
      ],
      "metadata": {
        "colab": {
          "base_uri": "https://localhost:8080/"
        },
        "id": "yr-zUgshL9Ha",
        "outputId": "05084a5f-5aee-4361-f94b-10504383b853"
      },
      "execution_count": 6,
      "outputs": [
        {
          "output_type": "stream",
          "name": "stdout",
          "text": [
            "Epoch 1/10\n",
            "1875/1875 [==============================] - 41s 21ms/step - loss: 0.1557 - accuracy: 0.9543\n",
            "Epoch 2/10\n",
            "1875/1875 [==============================] - 36s 19ms/step - loss: 0.0532 - accuracy: 0.9835\n",
            "Epoch 3/10\n",
            "1875/1875 [==============================] - 37s 19ms/step - loss: 0.0342 - accuracy: 0.9895\n",
            "Epoch 4/10\n",
            "1875/1875 [==============================] - 37s 19ms/step - loss: 0.0225 - accuracy: 0.9925\n",
            "Epoch 5/10\n",
            "1875/1875 [==============================] - 35s 19ms/step - loss: 0.0139 - accuracy: 0.9955\n",
            "Epoch 6/10\n",
            "1875/1875 [==============================] - 34s 18ms/step - loss: 0.0102 - accuracy: 0.9967\n",
            "Epoch 7/10\n",
            "1875/1875 [==============================] - 35s 18ms/step - loss: 0.0079 - accuracy: 0.9974\n",
            "Epoch 8/10\n",
            "1875/1875 [==============================] - 35s 19ms/step - loss: 0.0054 - accuracy: 0.9982\n",
            "Epoch 9/10\n",
            "1875/1875 [==============================] - 36s 19ms/step - loss: 0.0051 - accuracy: 0.9984\n",
            "Epoch 10/10\n",
            "1875/1875 [==============================] - 36s 19ms/step - loss: 0.0049 - accuracy: 0.9984\n"
          ]
        }
      ]
    },
    {
      "cell_type": "markdown",
      "source": [
        "# TEST"
      ],
      "metadata": {
        "id": "1_8wEOSA-CtF"
      }
    },
    {
      "cell_type": "code",
      "source": [
        "# Grafic the training history\n",
        "pd.DataFrame(history.history).plot(grid=True)"
      ],
      "metadata": {
        "colab": {
          "base_uri": "https://localhost:8080/",
          "height": 448
        },
        "id": "cgVDziJhMHAM",
        "outputId": "1f44c22d-16dc-4eb6-b343-91730cddbb3f"
      },
      "execution_count": 7,
      "outputs": [
        {
          "output_type": "execute_result",
          "data": {
            "text/plain": [
              "<Axes: >"
            ]
          },
          "metadata": {},
          "execution_count": 7
        },
        {
          "output_type": "display_data",
          "data": {
            "text/plain": [
              "<Figure size 640x480 with 1 Axes>"
            ],
            "image/png": "[encoded data removed]"
          },
          "metadata": {}
        }
      ]
    },
    {
      "cell_type": "code",
      "source": [
        "# Evaluate the model in the training dataset\n",
        "loss, accuracy = model.evaluate(x_train, y_train)\n",
        "print('Pérdida en el conjunto de entrenamiento:', loss)\n",
        "print('Precisión en el conjunto de entrenamiento:', accuracy)\n",
        "\n",
        "# Evaluate the model with data unseen data\n",
        "loss, accuracy = model.evaluate(x_test, y_test)\n",
        "print('Pérdida en el conjunto de entrenamiento:', loss)\n",
        "print('Precisión en el conjunto de entrenamiento:', accuracy)"
      ],
      "metadata": {
        "id": "OVNUwREAOmh6",
        "colab": {
          "base_uri": "https://localhost:8080/"
        },
        "outputId": "27c9719d-c1a6-4f28-f288-85b94b826ae5"
      },
      "execution_count": 8,
      "outputs": [
        {
          "output_type": "stream",
          "name": "stdout",
          "text": [
            "1875/1875 [==============================] - 10s 5ms/step - loss: 0.0055 - accuracy: 0.9983\n",
            "Pérdida en el conjunto de entrenamiento: 0.0054580774158239365\n",
            "Precisión en el conjunto de entrenamiento: 0.9982500076293945\n",
            "313/313 [==============================] - 2s 6ms/step - loss: 0.0609 - accuracy: 0.9857\n",
            "Pérdida en el conjunto de entrenamiento: 0.060854509472846985\n",
            "Precisión en el conjunto de entrenamiento: 0.9857000112533569\n"
          ]
        }
      ]
    },
    {
      "cell_type": "markdown",
      "source": [
        "# INFORMATION"
      ],
      "metadata": {
        "id": "PWvibmrR-HRu"
      }
    },
    {
      "cell_type": "code",
      "source": [
        "# Predict\n",
        "index = 1\n",
        "print(f'Label: {y_test[index]}')\n",
        "classification = model.predict(x_test[index:index+1])\n",
        "print(f'Classification:\\n {classification.reshape(-1,1)}')"
      ],
      "metadata": {
        "colab": {
          "base_uri": "https://localhost:8080/"
        },
        "id": "e8jG3AUK4bbR",
        "outputId": "b6eb4cd0-cc7b-449a-a450-25bc924c515b"
      },
      "execution_count": 10,
      "outputs": [
        {
          "output_type": "stream",
          "name": "stdout",
          "text": [
            "Label: 2\n",
            "1/1 [==============================] - 0s 119ms/step\n",
            "Classification:\n",
            " [[5.1566551e-10]\n",
            " [3.5149923e-09]\n",
            " [1.0000000e+00]\n",
            " [2.6576043e-14]\n",
            " [1.3533507e-19]\n",
            " [7.0957393e-17]\n",
            " [4.9113227e-11]\n",
            " [2.1533401e-17]\n",
            " [9.7129850e-16]\n",
            " [1.8477768e-15]]\n",
            "Label: 2\n",
            "1/1 [==============================] - 0s 32ms/step\n",
            "Classification:\n",
            " [[5.1566551e-10]\n",
            " [3.5149923e-09]\n",
            " [1.0000000e+00]\n",
            " [2.6576043e-14]\n",
            " [1.3533507e-19]\n",
            " [7.0957393e-17]\n",
            " [4.9113227e-11]\n",
            " [2.1533401e-17]\n",
            " [9.7129850e-16]\n",
            " [1.8477768e-15]]\n"
          ]
        }
      ]
    },
    {
      "cell_type": "code",
      "source": [
        "print(y_test[:30])"
      ],
      "metadata": {
        "colab": {
          "base_uri": "https://localhost:8080/"
        },
        "id": "9pLSJeXe5IBj",
        "outputId": "6ada9817-e292-483c-a7ec-4379ba6e4ac7"
      },
      "execution_count": 11,
      "outputs": [
        {
          "output_type": "stream",
          "name": "stdout",
          "text": [
            "[7 2 1 0 4 1 4 9 5 9 0 6 9 0 1 5 9 7 3 4 9 6 6 5 4 0 7 4 0 1]\n"
          ]
        }
      ]
    },
    {
      "cell_type": "code",
      "source": [
        "first = 2\n",
        "second = 5\n",
        "third = 14\n",
        "\n",
        "print(y_test[first])\n",
        "print(y_test[second])\n",
        "print(y_test[third])"
      ],
      "metadata": {
        "colab": {
          "base_uri": "https://localhost:8080/"
        },
        "id": "DHW72nZB5PFt",
        "outputId": "62661e9e-4e68-475c-9dbf-fdeaca54d3f5"
      },
      "execution_count": 29,
      "outputs": [
        {
          "output_type": "stream",
          "name": "stdout",
          "text": [
            "1\n",
            "1\n",
            "1\n"
          ]
        }
      ]
    },
    {
      "cell_type": "code",
      "source": [
        "f, axarr = plt.subplots(3, 1)\n",
        "axarr[0].imshow(x_test[first])\n",
        "axarr[1].imshow(x_test[second])\n",
        "axarr[2].imshow(x_test[third])"
      ],
      "metadata": {
        "colab": {
          "base_uri": "https://localhost:8080/",
          "height": 451
        },
        "id": "7rk5Uhgg5mFw",
        "outputId": "c79934a4-1266-4dac-cc9f-95f6ab694ac5"
      },
      "execution_count": 30,
      "outputs": [
        {
          "output_type": "execute_result",
          "data": {
            "text/plain": [
              "<matplotlib.image.AxesImage at 0x7e3b6a798400>"
            ]
          },
          "metadata": {},
          "execution_count": 30
        },
        {
          "output_type": "display_data",
          "data": {
            "text/plain": [
              "<Figure size 640x480 with 3 Axes>"
            ],
            "image/png": "[encoded data removed]"
          },
          "metadata": {}
        }
      ]
    },
    {
      "cell_type": "code",
      "source": [
        "layer = 0\n",
        "filter1 = 0\n",
        "filter2 = 10\n",
        "\n",
        "layer_outputs = [layer.output for layer in model.layers]\n",
        "activation_model = Model(inputs = model.input, outputs = layer_outputs)"
      ],
      "metadata": {
        "id": "DH4cn8t89h55"
      },
      "execution_count": 31,
      "outputs": []
    },
    {
      "cell_type": "code",
      "source": [
        "f, axarr = plt.subplots(3, 3)\n",
        "\n",
        "axarr[0, 0].set_title('Image Input')\n",
        "axarr[0, 0].imshow(x_test[first])\n",
        "f1 = activation_model.predict(x_test[first].reshape(1, 28, 28, 1))[layer]\n",
        "axarr[0, 1].set_title(\"Layer \" + str(layer) + \", Filter1\")\n",
        "axarr[0, 1].imshow(f1[0, :, :, filter1])\n",
        "axarr[0, 2].set_title(\"Layer \" + str(layer) + \", Filter2\")\n",
        "axarr[0, 2].imshow(f1[0, :, :, filter2])\n",
        "\n",
        "axarr[1, 0].imshow(x_test[second])\n",
        "f2 = activation_model.predict(x_test[second].reshape(1, 28, 28, 1))[layer]\n",
        "axarr[1, 1].imshow(f2[0, :, :, filter1])\n",
        "axarr[1, 2].imshow(f2[0, :, :, filter2])\n",
        "\n",
        "axarr[2, 0].imshow(x_test[third])\n",
        "f3 = activation_model.predict(x_test[third].reshape(1, 28, 28, 1))[layer]\n",
        "axarr[2, 1].imshow(f3[0, :, :, filter1])\n",
        "axarr[2, 2].imshow(f3[0, :, :, filter2])"
      ],
      "metadata": {
        "colab": {
          "base_uri": "https://localhost:8080/",
          "height": 525
        },
        "id": "XXOC1ZbJ-eg5",
        "outputId": "19fe93a3-cc47-484b-b1bf-1a1320db57f8"
      },
      "execution_count": 33,
      "outputs": [
        {
          "output_type": "stream",
          "name": "stdout",
          "text": [
            "1/1 [==============================] - 0s 20ms/step\n",
            "1/1 [==============================] - 0s 19ms/step\n",
            "1/1 [==============================] - 0s 24ms/step\n"
          ]
        },
        {
          "output_type": "execute_result",
          "data": {
            "text/plain": [
              "<matplotlib.image.AxesImage at 0x7e3b6a1a6110>"
            ]
          },
          "metadata": {},
          "execution_count": 33
        },
        {
          "output_type": "display_data",
          "data": {
            "text/plain": [
              "<Figure size 640x480 with 9 Axes>"
            ],
            "image/png": "[encoded data removed]"
          },
          "metadata": {}
        }
      ]
    }
  ]
}